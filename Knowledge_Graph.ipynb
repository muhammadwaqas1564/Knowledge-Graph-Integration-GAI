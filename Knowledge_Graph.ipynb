{
  "cells": [
    {
      "cell_type": "markdown",
      "metadata": {
        "id": "T6vyuQpxxmTn"
      },
      "source": [
        "All important libraries required for this project"
      ]
    },
    {
      "cell_type": "code",
      "execution_count": 1,
      "metadata": {
        "colab": {
          "base_uri": "https://localhost:8080/"
        },
        "id": "V5EMc8xTgLVY",
        "outputId": "46320bba-100a-4138-eecc-aea2ef828ede"
      },
      "outputs": [
        {
          "name": "stdout",
          "output_type": "stream",
          "text": [
            "  Preparing metadata (setup.py) ... \u001b[?25l\u001b[?25hdone\n",
            "\u001b[2K     \u001b[90m━━━━━━━━━━━━━━━━━━━━━━━━━━━━━━━━━━━━━━━━\u001b[0m \u001b[32m41.9/41.9 kB\u001b[0m \u001b[31m2.5 MB/s\u001b[0m eta \u001b[36m0:00:00\u001b[0m\n",
            "\u001b[2K     \u001b[90m━━━━━━━━━━━━━━━━━━━━━━━━━━━━━━━━━━━━━━━━\u001b[0m \u001b[32m50.6/50.6 kB\u001b[0m \u001b[31m2.5 MB/s\u001b[0m eta \u001b[36m0:00:00\u001b[0m\n",
            "\u001b[2K   \u001b[90m━━━━━━━━━━━━━━━━━━━━━━━━━━━━━━━━━━━━━━━━\u001b[0m \u001b[32m1.0/1.0 MB\u001b[0m \u001b[31m24.2 MB/s\u001b[0m eta \u001b[36m0:00:00\u001b[0m\n",
            "\u001b[2K   \u001b[90m━━━━━━━━━━━━━━━━━━━━━━━━━━━━━━━━━━━━━━━━\u001b[0m \u001b[32m2.4/2.4 MB\u001b[0m \u001b[31m64.3 MB/s\u001b[0m eta \u001b[36m0:00:00\u001b[0m\n",
            "\u001b[2K   \u001b[90m━━━━━━━━━━━━━━━━━━━━━━━━━━━━━━━━━━━━━━━━\u001b[0m \u001b[32m296.6/296.6 kB\u001b[0m \u001b[31m19.8 MB/s\u001b[0m eta \u001b[36m0:00:00\u001b[0m\n",
            "\u001b[2K   \u001b[90m━━━━━━━━━━━━━━━━━━━━━━━━━━━━━━━━━━━━━━━━\u001b[0m \u001b[32m1.2/1.2 MB\u001b[0m \u001b[31m47.9 MB/s\u001b[0m eta \u001b[36m0:00:00\u001b[0m\n",
            "\u001b[2K   \u001b[90m━━━━━━━━━━━━━━━━━━━━━━━━━━━━━━━━━━━━━━━━\u001b[0m \u001b[32m15.6/15.6 MB\u001b[0m \u001b[31m54.9 MB/s\u001b[0m eta \u001b[36m0:00:00\u001b[0m\n",
            "\u001b[2K   \u001b[90m━━━━━━━━━━━━━━━━━━━━━━━━━━━━━━━━━━━━━━━━\u001b[0m \u001b[32m208.1/208.1 kB\u001b[0m \u001b[31m13.8 MB/s\u001b[0m eta \u001b[36m0:00:00\u001b[0m\n",
            "\u001b[2K   \u001b[90m━━━━━━━━━━━━━━━━━━━━━━━━━━━━━━━━━━━━━━━━\u001b[0m \u001b[32m40.4/40.4 kB\u001b[0m \u001b[31m2.6 MB/s\u001b[0m eta \u001b[36m0:00:00\u001b[0m\n",
            "\u001b[2K   \u001b[90m━━━━━━━━━━━━━━━━━━━━━━━━━━━━━━━━━━━━━━━━\u001b[0m \u001b[32m8.7/8.7 MB\u001b[0m \u001b[31m77.4 MB/s\u001b[0m eta \u001b[36m0:00:00\u001b[0m\n",
            "\u001b[2K   \u001b[90m━━━━━━━━━━━━━━━━━━━━━━━━━━━━━━━━━━━━━━━━\u001b[0m \u001b[32m106.5/106.5 kB\u001b[0m \u001b[31m7.6 MB/s\u001b[0m eta \u001b[36m0:00:00\u001b[0m\n",
            "\u001b[2K   \u001b[90m━━━━━━━━━━━━━━━━━━━━━━━━━━━━━━━━━━━━━━━━\u001b[0m \u001b[32m139.8/139.8 kB\u001b[0m \u001b[31m9.1 MB/s\u001b[0m eta \u001b[36m0:00:00\u001b[0m\n",
            "\u001b[2K   \u001b[90m━━━━━━━━━━━━━━━━━━━━━━━━━━━━━━━━━━━━━━━━\u001b[0m \u001b[32m408.0/408.0 kB\u001b[0m \u001b[31m23.0 MB/s\u001b[0m eta \u001b[36m0:00:00\u001b[0m\n",
            "\u001b[2K   \u001b[90m━━━━━━━━━━━━━━━━━━━━━━━━━━━━━━━━━━━━━━━━\u001b[0m \u001b[32m296.9/296.9 kB\u001b[0m \u001b[31m17.7 MB/s\u001b[0m eta \u001b[36m0:00:00\u001b[0m\n",
            "\u001b[2K   \u001b[90m━━━━━━━━━━━━━━━━━━━━━━━━━━━━━━━━━━━━━━━━\u001b[0m \u001b[32m6.9/6.9 MB\u001b[0m \u001b[31m86.7 MB/s\u001b[0m eta \u001b[36m0:00:00\u001b[0m\n",
            "\u001b[2K   \u001b[90m━━━━━━━━━━━━━━━━━━━━━━━━━━━━━━━━━━━━━━━━\u001b[0m \u001b[32m79.3/79.3 kB\u001b[0m \u001b[31m6.1 MB/s\u001b[0m eta \u001b[36m0:00:00\u001b[0m\n",
            "\u001b[2K   \u001b[90m━━━━━━━━━━━━━━━━━━━━━━━━━━━━━━━━━━━━━━━━\u001b[0m \u001b[32m76.4/76.4 kB\u001b[0m \u001b[31m5.9 MB/s\u001b[0m eta \u001b[36m0:00:00\u001b[0m\n",
            "\u001b[2K   \u001b[90m━━━━━━━━━━━━━━━━━━━━━━━━━━━━━━━━━━━━━━━━\u001b[0m \u001b[32m78.0/78.0 kB\u001b[0m \u001b[31m5.7 MB/s\u001b[0m eta \u001b[36m0:00:00\u001b[0m\n",
            "\u001b[2K   \u001b[90m━━━━━━━━━━━━━━━━━━━━━━━━━━━━━━━━━━━━━━━━\u001b[0m \u001b[32m49.5/49.5 kB\u001b[0m \u001b[31m3.4 MB/s\u001b[0m eta \u001b[36m0:00:00\u001b[0m\n",
            "\u001b[2K   \u001b[90m━━━━━━━━━━━━━━━━━━━━━━━━━━━━━━━━━━━━━━━━\u001b[0m \u001b[32m144.5/144.5 kB\u001b[0m \u001b[31m11.3 MB/s\u001b[0m eta \u001b[36m0:00:00\u001b[0m\n",
            "\u001b[2K   \u001b[90m━━━━━━━━━━━━━━━━━━━━━━━━━━━━━━━━━━━━━━━━\u001b[0m \u001b[32m54.5/54.5 kB\u001b[0m \u001b[31m4.5 MB/s\u001b[0m eta \u001b[36m0:00:00\u001b[0m\n",
            "\u001b[2K   \u001b[90m━━━━━━━━━━━━━━━━━━━━━━━━━━━━━━━━━━━━━━━━\u001b[0m \u001b[32m2.3/2.3 MB\u001b[0m \u001b[31m69.9 MB/s\u001b[0m eta \u001b[36m0:00:00\u001b[0m\n",
            "\u001b[2K   \u001b[90m━━━━━━━━━━━━━━━━━━━━━━━━━━━━━━━━━━━━━━━━\u001b[0m \u001b[32m1.6/1.6 MB\u001b[0m \u001b[31m60.0 MB/s\u001b[0m eta \u001b[36m0:00:00\u001b[0m\n",
            "\u001b[2K   \u001b[90m━━━━━━━━━━━━━━━━━━━━━━━━━━━━━━━━━━━━━━━━\u001b[0m \u001b[32m58.3/58.3 kB\u001b[0m \u001b[31m4.3 MB/s\u001b[0m eta \u001b[36m0:00:00\u001b[0m\n",
            "\u001b[?25h  Building wheel for wikipedia (setup.py) ... \u001b[?25l\u001b[?25hdone\n"
          ]
        }
      ],
      "source": [
        "%pip install --upgrade --quiet  langchain langchain-community langchain-groq neo4j wikipedia tiktoken yfiles_jupyter_graphs langchain_experimental langchain_google_genai pyngrok streamlit"
      ]
    },
    {
      "cell_type": "code",
      "execution_count": null,
      "metadata": {
        "id": "KerJ0d4gxWnZ"
      },
      "outputs": [],
      "source": [
        "from langchain_core.runnables import (\n",
        "    RunnableBranch,\n",
        "    RunnableLambda,\n",
        "    RunnableParallel,\n",
        "    RunnablePassthrough,\n",
        ")"
      ]
    },
    {
      "cell_type": "code",
      "execution_count": null,
      "metadata": {
        "id": "Az269ZH8xvcO"
      },
      "outputs": [],
      "source": [
        "\n",
        "from langchain_core.prompts import ChatPromptTemplate\n",
        "from langchain_core.prompts.prompt import PromptTemplate\n",
        "\n",
        "from typing import Tuple, List, Optional\n",
        "\n",
        "from langchain_core.messages import AIMessage, HumanMessage\n",
        "from langchain_core.output_parsers import StrOutputParser\n",
        "\n",
        "from langchain_core.runnables import ConfigurableField\n",
        "\n",
        "from yfiles_jupyter_graphs import GraphWidget\n",
        "from neo4j import GraphDatabase\n",
        "\n",
        "import os"
      ]
    },
    {
      "cell_type": "code",
      "execution_count": null,
      "metadata": {
        "id": "9I6VRHBL136u"
      },
      "outputs": [],
      "source": [
        "from langchain_community.vectorstores import Neo4jVector"
      ]
    },
    {
      "cell_type": "code",
      "execution_count": null,
      "metadata": {
        "id": "F8yhbeIvvy7z"
      },
      "outputs": [],
      "source": [
        "# import getpass\n",
        "# import os\n",
        "\n",
        "# if \"GROQ_API_KEY\" not in os.environ:\n",
        "#     os.environ[\"GROQ_API_KEY\"] = getpass.getpass(\"Enter your Groq API key: \")\n",
        "# else:\n",
        "#   print(\"GROQ_API_KEY already set\")\n",
        "\n",
        "from google.colab import userdata\n",
        "GROQ_API_KEY=userdata.get('GROQ_API_KEY')\n",
        "GOOGLE_API_KEY=userdata.get('GOOGLE_API_KEY')"
      ]
    },
    {
      "cell_type": "code",
      "execution_count": null,
      "metadata": {
        "id": "0EDqnd_yxbJJ"
      },
      "outputs": [],
      "source": [
        "NEO4J_URI=\"neo4j+s://04a30263.databases.neo4j.io\"\n",
        "NEO4J_USERNAME=\"neo4j\"\n",
        "NEO4J_PASSWORD=\"yfNuG-fkyaNHljhgx8Tc32gEExnaxUAi7lGz20YSzSQ\""
      ]
    },
    {
      "cell_type": "code",
      "execution_count": null,
      "metadata": {
        "id": "qXOix3R90Voj"
      },
      "outputs": [],
      "source": [
        "import os\n",
        "os.environ[\"GROQ_API_KEY\"] = GROQ_API_KEY\n",
        "os.environ[\"GOOGLE_API_KEY\"] = GOOGLE_API_KEY\n",
        "os.environ[\"NEO4J_URI\"] = NEO4J_URI\n",
        "os.environ[\"NEO4J_USERNAME\"] = NEO4J_USERNAME\n",
        "os.environ[\"NEO4J_PASSWORD\"] = NEO4J_PASSWORD"
      ]
    },
    {
      "cell_type": "code",
      "execution_count": null,
      "metadata": {
        "id": "2YPXTbNr22S-"
      },
      "outputs": [],
      "source": [
        "from langchain_community.graphs import Neo4jGraph"
      ]
    },
    {
      "cell_type": "code",
      "execution_count": null,
      "metadata": {
        "id": "uts3tTxF27s-"
      },
      "outputs": [],
      "source": [
        "graph = Neo4jGraph()"
      ]
    },
    {
      "cell_type": "code",
      "execution_count": null,
      "metadata": {
        "id": "xMYBcsdy7UjZ"
      },
      "outputs": [],
      "source": [
        "from langchain.document_loaders import WikipediaLoader"
      ]
    },
    {
      "cell_type": "markdown",
      "metadata": {
        "id": "BmZpuB2MyV4Z"
      },
      "source": [
        "Extracting data from Wikipedia"
      ]
    },
    {
      "cell_type": "code",
      "execution_count": null,
      "metadata": {
        "colab": {
          "base_uri": "https://localhost:8080/"
        },
        "id": "5p1jRbkS30d7",
        "outputId": "ee73e738-90ee-4d9f-827a-d0344dc6deae"
      },
      "outputs": [
        {
          "name": "stderr",
          "output_type": "stream",
          "text": [
            "/usr/local/lib/python3.10/dist-packages/wikipedia/wikipedia.py:389: GuessedAtParserWarning: No parser was explicitly specified, so I'm using the best available HTML parser for this system (\"lxml\"). This usually isn't a problem, but if you run this code on another system, or in a different virtual environment, it may use a different parser and behave differently.\n",
            "\n",
            "The code that caused this warning is on line 389 of the file /usr/local/lib/python3.10/dist-packages/wikipedia/wikipedia.py. To get rid of this warning, pass the additional argument 'features=\"lxml\"' to the BeautifulSoup constructor.\n",
            "\n",
            "  lis = BeautifulSoup(html).find_all('li')\n"
          ]
        }
      ],
      "source": [
        "raw_documents = WikipediaLoader(query=\"Elon Musk\").load()"
      ]
    },
    {
      "cell_type": "code",
      "execution_count": null,
      "metadata": {
        "colab": {
          "base_uri": "https://localhost:8080/"
        },
        "id": "vJCzDRQx7ryw",
        "outputId": "e397d33e-9773-4c4c-e005-c39b7e452aa9"
      },
      "outputs": [
        {
          "data": {
            "text/plain": [
              "24"
            ]
          },
          "execution_count": 12,
          "metadata": {},
          "output_type": "execute_result"
        }
      ],
      "source": [
        "len(raw_documents)"
      ]
    },
    {
      "cell_type": "code",
      "execution_count": null,
      "metadata": {
        "colab": {
          "base_uri": "https://localhost:8080/"
        },
        "id": "yLqwoFQ87vlC",
        "outputId": "c58afc0e-d10b-4a97-a798-6d7e1c98d93a"
      },
      "outputs": [
        {
          "data": {
            "text/plain": [
              "[Document(metadata={'title': 'Elon Musk', 'summary': 'Elon Reeve Musk  (; born June 28, 1971) is a businessman and investor known for his key roles in the space company SpaceX and the automotive company Tesla, Inc. Other involvements include ownership of X Corp., the company that operates the social media platform X (formerly known as Twitter), and his role in the founding of the Boring Company, xAI, Neuralink, and OpenAI. He is one of the wealthiest individuals in the world; as of August 2024 Forbes estimates his net worth to be US$247 billion.\\nMusk was born in Pretoria, South Africa, to Maye (née Haldeman), a model, and Errol Musk, a businessman and engineer. Musk briefly attended the University of Pretoria before immigrating to Canada at the age of 18, acquiring citizenship through his Canadian-born mother. Two years later he matriculated at Queen\\'s University at Kingston in Canada. Musk later transferred to the University of Pennsylvania and received bachelor\\'s degrees in economics and physics. He moved to California in 1995 to attend Stanford University, but dropped out after two days and, with his brother Kimbal, co-founded the online city guide software company Zip2. The startup was acquired by Compaq for $307 million in 1999. That same year Musk co-founded X.com, a direct bank. X.com merged with Confinity in 2000 to form PayPal. In 2002 Musk acquired US citizenship. That October  eBay acquired PayPal for $1.5 billion. Using $100 million of the money he made from the sale of PayPal, Musk founded SpaceX, a spaceflight services company, in 2002. \\nIn 2004, Musk was an early investor who provided most of the initial financing in the electric-vehicle manufacturer Tesla Motors, Inc. (later Tesla, Inc.), assuming the position of the company\\'s chairman. He later became the product architect and, in 2008, the CEO. In 2006, Musk helped create SolarCity, a solar energy company that was acquired by Tesla in 2016 and became Tesla Energy. In 2013, he proposed a hyperloop high-speed vactrain transportation system. In 2015, he co-founded OpenAI, a nonprofit artificial intelligence research company. The following year Musk co-founded Neuralink, a neurotechnology company developing brain–computer interfaces, and The Boring Company, a tunnel construction company. In 2018 the U.S. Securities and Exchange Commission (SEC) sued Musk, alleging that he had falsely announced that he had secured funding for a private takeover of Tesla. To settle the case Musk stepped down as the chairman of Tesla and paid a $20 million fine. In 2022, he acquired Twitter for $44 billion, merged the company into the newly-created X Corp. and rebranded the service as X the following year. In March 2023, Musk founded xAI, an artificial-intelligence company.\\nMusk has expressed views that have made him a polarizing figure. He has been criticized for making unscientific and misleading statements, including COVID-19 misinformation, promoting right-wing conspiracy theories, and \"endorsing an antisemitic theory\"; he later apologized for the last of these. His ownership of Twitter has been controversial because of the layoffs of large numbers of employees, an increase in hate speech, misinformation and disinformation posts on the website, and changes to website features, including X Premium verification.\\n\\n', 'source': 'https://en.wikipedia.org/wiki/Elon_Musk'}, page_content='Elon Reeve Musk  (; born June 28, 1971) is a businessman and investor known for his key roles in the space company SpaceX and the automotive company Tesla, Inc. Other involvements include ownership of X Corp., the company that operates the social media platform X (formerly known as Twitter), and his role in the founding of the Boring Company, xAI, Neuralink, and OpenAI. He is one of the wealthiest individuals in the world; as of August 2024 Forbes estimates his net worth to be US$247 billion.\\nMusk was born in Pretoria, South Africa, to Maye (née Haldeman), a model, and Errol Musk, a businessman and engineer. Musk briefly attended the University of Pretoria before immigrating to Canada at the age of 18, acquiring citizenship through his Canadian-born mother. Two years later he matriculated at Queen\\'s University at Kingston in Canada. Musk later transferred to the University of Pennsylvania and received bachelor\\'s degrees in economics and physics. He moved to California in 1995 to attend Stanford University, but dropped out after two days and, with his brother Kimbal, co-founded the online city guide software company Zip2. The startup was acquired by Compaq for $307 million in 1999. That same year Musk co-founded X.com, a direct bank. X.com merged with Confinity in 2000 to form PayPal. In 2002 Musk acquired US citizenship. That October  eBay acquired PayPal for $1.5 billion. Using $100 million of the money he made from the sale of PayPal, Musk founded SpaceX, a spaceflight services company, in 2002. \\nIn 2004, Musk was an early investor who provided most of the initial financing in the electric-vehicle manufacturer Tesla Motors, Inc. (later Tesla, Inc.), assuming the position of the company\\'s chairman. He later became the product architect and, in 2008, the CEO. In 2006, Musk helped create SolarCity, a solar energy company that was acquired by Tesla in 2016 and became Tesla Energy. In 2013, he proposed a hyperloop high-speed vactrain transportation system. In 2015, he co-founded OpenAI, a nonprofit artificial intelligence research company. The following year Musk co-founded Neuralink, a neurotechnology company developing brain–computer interfaces, and The Boring Company, a tunnel construction company. In 2018 the U.S. Securities and Exchange Commission (SEC) sued Musk, alleging that he had falsely announced that he had secured funding for a private takeover of Tesla. To settle the case Musk stepped down as the chairman of Tesla and paid a $20 million fine. In 2022, he acquired Twitter for $44 billion, merged the company into the newly-created X Corp. and rebranded the service as X the following year. In March 2023, Musk founded xAI, an artificial-intelligence company.\\nMusk has expressed views that have made him a polarizing figure. He has been criticized for making unscientific and misleading statements, including COVID-19 misinformation, promoting right-wing conspiracy theories, and \"endorsing an antisemitic theory\"; he later apologized for the last of these. His ownership of Twitter has been controversial because of the layoffs of large numbers of employees, an increase in hate speech, misinformation and disinformation posts on the website, and changes to website features, including X Premium verification.\\n\\n\\n== Early life and education ==\\n\\n\\n=== Childhood and family ===\\n\\nElon Reeve Musk was born on June 28, 1971, in Pretoria, South Africa\\'s administrative capital. He is of British and Pennsylvania Dutch ancestry. His mother, Maye (née Haldeman), is a model and dietitian born in Saskatchewan, Canada, and raised in South Africa. His father, Errol Musk, is a South African electromechanical engineer, pilot, sailor, consultant, emerald dealer, and property developer, who partly owned a rental lodge at the Timbavati Private Nature Reserve. Elon has a younger brother, Kimbal, and a younger sister, Tosca.  Elon has four paternal half-siblings.\\nThe family was wealthy during Elon\\'s youth. Despite both Musk and Errol previously stating tha'),\n",
              " Document(metadata={'title': 'Views of Elon Musk', 'summary': 'Elon Musk is the CEO or owner of multiple companies including Tesla, SpaceX, and X Corp, and has expressed many views on a wide variety of subjects, ranging from politics to science.\\nMusk has often been described as libertarian, but also describes himself as \"politically moderate\". Following the COVID-19 pandemic, however, his views have also been described as becoming more right-wing and conservative over time. Within the context of American politics, Musk has said he supported Barack Obama in 2008 and 2012, Hillary Clinton in 2016, Joe Biden in 2020, and Donald Trump in 2024. In 2022, Musk said he would start voting for Republican Party candidates, with him showing support for Vivek Ramaswamy in the 2024 Republican presidential primaries. He has stated support for universal basic income, gun rights, freedom of speech, a tax on carbon emissions and opposes government subsidies. He is also a critic of illegal immigration and short-selling.\\nMusk has expressed concern about issues such as artificial intelligence (AI), climate change and population decline. He has also criticized COVID-19 lockdowns, public transportation, and labor unions. He has promoted conspiracy theories, and made controversial statements that have led to accusations of sexism, antisemitism, support of white pride and transphobia. His views on international relations, including on the China-Taiwan and Russia-Ukraine conflicts, have received mixed reactions.', 'source': 'https://en.wikipedia.org/wiki/Views_of_Elon_Musk'}, page_content='Elon Musk is the CEO or owner of multiple companies including Tesla, SpaceX, and X Corp, and has expressed many views on a wide variety of subjects, ranging from politics to science.\\nMusk has often been described as libertarian, but also describes himself as \"politically moderate\". Following the COVID-19 pandemic, however, his views have also been described as becoming more right-wing and conservative over time. Within the context of American politics, Musk has said he supported Barack Obama in 2008 and 2012, Hillary Clinton in 2016, Joe Biden in 2020, and Donald Trump in 2024. In 2022, Musk said he would start voting for Republican Party candidates, with him showing support for Vivek Ramaswamy in the 2024 Republican presidential primaries. He has stated support for universal basic income, gun rights, freedom of speech, a tax on carbon emissions and opposes government subsidies. He is also a critic of illegal immigration and short-selling.\\nMusk has expressed concern about issues such as artificial intelligence (AI), climate change and population decline. He has also criticized COVID-19 lockdowns, public transportation, and labor unions. He has promoted conspiracy theories, and made controversial statements that have led to accusations of sexism, antisemitism, support of white pride and transphobia. His views on international relations, including on the China-Taiwan and Russia-Ukraine conflicts, have received mixed reactions.\\n\\n\\n== International relations ==\\n\\n\\n=== Bolivia ===\\nIn July 2020, Musk tweeted, \"We will coup whoever we want! Deal with it\" in response to a Twitter user who implied that the US government organized a coup (referring to the 2019 Bolivian political crisis) against Evo Morales for Musk to obtain lithium from Bolivia. Musk\\'s tweet caused controversy and was later deleted.\\n\\n\\n=== China ===\\nMusk has praised China and has been described as having a close relationship with the Chinese government, allowing access to its markets for Tesla. After Gigafactory Shanghai produced its first batch of vehicles, Musk thanked the Chinese government and Chinese people while criticizing the United States and its people.:\\u200a207–208\\u200a On the 100th anniversary of the founding of the Chinese Communist Party, Musk praised the state\\'s \"economic prosperity\". In 2022, Musk wrote an article for China Cyberspace, the official publication of Cyberspace Administration of China, which enforces Internet censorship in China. His writing the article was described as conflicting with his advocacy for free speech.\\n\\n\\n=== Russian invasion of Ukraine ===\\n\\nFollowing the Russian invasion of Ukraine, Musk floated a controversial proposal on Twitter in October 2022, arguing that Ukraine should permanently cede occupied territories (e.g. Crimea) to Russia, and that Ukraine should drop its bid to join NATO. The four-part proposal, posted as a Twitter poll, suggested new referendums under United Nations supervision on the annexation of Russia-occupied territories. The proposal was welcomed by the Russian government and denounced by Ukrainian President Volodymyr Zelenskyy as \"pro-Russia\", with officials noting that people who had been murdered or forcibly deported by Russia would be unable to vote.\\nMusk appeared to be \"transmitting a message\" for Russian President Vladimir Putin, according to foreign affairs specialist Fiona Hill. In Politico\\'s interview with Hill, she said that Musk\\'s suggestion that Kherson and Zaporizhzhia be up for negotiation, and that the water supply for Crimea be secured, was \"so specific that this clearly is a message from Putin\". Musk previously made a similar suggestion at a September event in Aspen, Colorado. Hill told Politico, \"Putin plays the egos of big men, gives them a sense that they can play a role. But in reality, they\\'re just direct transmitters of messages from Vladimir Putin\".\\nIn an email newsletter, Ian Bremmer, head of Eurasia Group, a political-risk consultancy, said that Musk told him that he had spoken directly wit'),\n",
              " Document(metadata={'title': 'Family of Elon Musk', 'summary': 'The family of Elon Musk includes his mother Maye Musk, a model and author, his father Errol Musk, a businessman and politician, his siblings Kimbal Musk  and Tosca Musk, and his cousin Lyndon Rive. His ex-wives are Justine Musk and Talulah Riley.', 'source': 'https://en.wikipedia.org/wiki/Family_of_Elon_Musk'}, page_content='The family of Elon Musk includes his mother Maye Musk, a model and author, his father Errol Musk, a businessman and politician, his siblings Kimbal Musk  and Tosca Musk, and his cousin Lyndon Rive. His ex-wives are Justine Musk and Talulah Riley.\\n\\n\\n== History ==\\nElon Musk\\'s paternal great-grandmother was a Dutchwoman descended from the Dutch Free Burghers, while one of his maternal great-grandparents came from the Haldimann family in Switzerland. His paternal grandmother was English from Liverpool and his paternal grandfather Walter Henry J. Musk was South African. Elon Musk\\'s father, Errol Musk, is a South African former electrical and mechanical engineer consultant and property developer, who was involved in emerald mines in the 1980s, and was a member of the South African Progressive Federal Party.:\\u200a225,\\u200afn 119\\u200a\\nHis maternal grandparents Winnifred Josephine \"Wyn\" (Fletcher) and Joshua Norman Haldeman were explorers who lived in South Africa and Canada and searched for the Lost City of the Kalahari. Joshua Haldeman was a former director of Technocracy Incorporated and a political activist who ran for the Canadian Parliament on the Social Credit Party ticket, and headed the Canadian branch of the Technocracy movement.\\n\\n\\n== Parents ==\\n\\n\\n=== Errol Musk ===\\n\\nErrol Musk is a retired South African engineer, politician, and businessman. Errol Musk was born in South Africa.  His mother, Cora Amelia, was British and his father Walter Henry James Musk was a South African army sergeant. He attended Clapham High School, where he dated Maye Haldeman. The pair married in 1970.:\\u200a44\\u200a The family lived in Pretoria, where Maye worked as a dietician and a model. Their first child, Elon Reeve Musk, was born in 1971, named after his wife\\'s grandfather J. Elon Haldeman with  Reeve from her maternal grandmother\\'s maiden name.\\nOn 9 March 1972, Musk was elected as an independent to represent Sunnyside on the Pretoria City Council.:\\u200a52\\u200a\\nHe became a member of the recently-formed Progressive Federal Party and ran as their nominee in the 1981 election.:\\u200a52\\u200a:\\u200a225,\\u200afn 119\\u200a In 1983, his resignation from the party amid divisions over a constitutional referendum was front page news.:\\u200a225,\\u200afn 119\\u200a\\nMusk studied electromechanics at the University of Pretoria, worked as an electrical and mechanical engineering consultant and developed properties.  He specialised in retail and office property development.:\\u200a27\\u200a Musk owned \"one of the biggest houses in Pretoria\" thanks to his lucrative engineering business which took on \"large projects such as office buildings, retail complexes, residential subdivisions, and an air force base.\" Musk also owned an auto parts store.  In 1979, Musk and wife Maye divorced.  Maye\\'s book recalls that at the time of the divorce, he owned two homes, a yacht, a plane, five luxury cars, and a truck.\\nMaye recounts a time during their divorce when she sought refuge at a neighbor\\'s home after Errol showed up with a knife looking for her. After the divorce, Musk repeatedly sued his ex-wife for custody of their children.   \\nMusk was briefly married to a wife, Sue.   \\nIn the early 1980s, Musk built a lodge in the Timbavati Game Reserve to rent to tourists.:\\u200ach. 3\\u200a\\nIn 1986, Musk acquired the output of three Zambian emerald mines, though he could not acquire the actual mines themselves.  In interviews with Walter Issacson, Musk explained:  \"If you registered it, you would wind up with nothing, because the Blacks would take everything from you\".:\\u200ach. 1\\u200a\\nIn the 21st century, Musk achieved notoriety for his relationships with ex-wife Maye, their children Elon, restaurateur Kimbal Musk, and filmmaker Tosca Musk, as well as for his step-daughter turned romantic partner, Jana Bezuidenhout.\\nIn 2014, Musk gave an interview to American media about his son Elon. In 2017, Musk was interviewed by Neil Strauss of Rolling Stone for a profile of Elon titled \"The Architect of Tomorrow\". In that piece Errol recalled that he had once shot and killed in self-defense \"t')]"
            ]
          },
          "execution_count": 13,
          "metadata": {},
          "output_type": "execute_result"
        }
      ],
      "source": [
        "raw_documents[:3]"
      ]
    },
    {
      "cell_type": "code",
      "execution_count": null,
      "metadata": {
        "id": "PzkqsJpI8KPE"
      },
      "outputs": [],
      "source": [
        "from langchain.text_splitter import TokenTextSplitter\n",
        "text_splitter = TokenTextSplitter(chunk_size=500, chunk_overlap=35)\n",
        "documents = text_splitter.split_documents(raw_documents[0:3])"
      ]
    },
    {
      "cell_type": "markdown",
      "metadata": {
        "id": "t91-tNXCSLD2"
      },
      "source": []
    },
    {
      "cell_type": "code",
      "execution_count": null,
      "metadata": {
        "id": "rMzOS124rrcM"
      },
      "outputs": [],
      "source": [
        "from langchain_groq import ChatGroq\n",
        "\n",
        "llm = ChatGroq(\n",
        "    model=\"mixtral-8x7b-32768\",\n",
        "    temperature=0\n",
        ")"
      ]
    },
    {
      "cell_type": "code",
      "execution_count": null,
      "metadata": {
        "id": "aXokEWFZrnpt"
      },
      "outputs": [],
      "source": [
        "from langchain_experimental.graph_transformers import LLMGraphTransformer\n",
        "llm_transformer = LLMGraphTransformer(llm=llm)"
      ]
    },
    {
      "cell_type": "markdown",
      "metadata": {
        "id": "c4L5zAwEyjXm"
      },
      "source": [
        "Converting data into graph format"
      ]
    },
    {
      "cell_type": "code",
      "execution_count": null,
      "metadata": {
        "colab": {
          "base_uri": "https://localhost:8080/"
        },
        "id": "I4SOmENPGQE-",
        "outputId": "dcefb25a-4780-4555-fd8a-99f5741b9208"
      },
      "outputs": [
        {
          "data": {
            "text/plain": [
              "[GraphDocument(nodes=[Node(id='Elon_Reeve_Musk', type='Person', properties={}), Node(id='Spacex', type='Space_company', properties={}), Node(id='Tesla_Inc', type='Automotive_company', properties={}), Node(id='X_Corp', type='Social_media_platform_company', properties={}), Node(id='Boring_Company', type='Tunnel_construction_company', properties={}), Node(id='Xai', type='Artificial_intelligence_company', properties={}), Node(id='Neuralink', type='Neurotechnology_company', properties={}), Node(id='Openai', type='Artificial_intelligence_research_company', properties={}), Node(id='University_Of_Pretoria', type='University', properties={}), Node(id=\"Queen'S_University_At_Kingston\", type='University', properties={}), Node(id='University_Of_Pennsylvania', type='University', properties={}), Node(id='Stanford_University', type='University', properties={}), Node(id='Zip2', type='Online_city_guide_software_company', properties={}), Node(id='Paypal', type='Direct_bank', properties={}), Node(id='Solarcity', type='Solar_energy_company', properties={}), Node(id='Maye_Haldeman', type='Person', properties={}), Node(id='Errol_Musk', type='Person', properties={}), Node(id='John_Doe', type='Person', properties={})], relationships=[Relationship(source=Node(id='Elon_Reeve_Musk', type='Person', properties={}), target=Node(id='Spacex', type='Space_company', properties={}), type='FOUNDER', properties={}), Relationship(source=Node(id='Elon_Reeve_Musk', type='Person', properties={}), target=Node(id='Tesla_Inc', type='Automotive_company', properties={}), type='INVESTOR', properties={}), Relationship(source=Node(id='Elon_Reeve_Musk', type='Person', properties={}), target=Node(id='Tesla_Inc', type='Automotive_company', properties={}), type='CEO', properties={}), Relationship(source=Node(id='Elon_Reeve_Musk', type='Person', properties={}), target=Node(id='X_Corp', type='Social_media_platform_company', properties={}), type='OWNER', properties={}), Relationship(source=Node(id='Elon_Reeve_Musk', type='Person', properties={}), target=Node(id='Boring_Company', type='Tunnel_construction_company', properties={}), type='CO-FOUNDER', properties={}), Relationship(source=Node(id='Elon_Reeve_Musk', type='Person', properties={}), target=Node(id='Xai', type='Artificial_intelligence_company', properties={}), type='CO-FOUNDER', properties={}), Relationship(source=Node(id='Elon_Reeve_Musk', type='Person', properties={}), target=Node(id='Neuralink', type='Neurotechnology_company', properties={}), type='CO-FOUNDER', properties={}), Relationship(source=Node(id='Elon_Reeve_Musk', type='Person', properties={}), target=Node(id='Openai', type='Artificial_intelligence_research_company', properties={}), type='CO-FOUNDER', properties={}), Relationship(source=Node(id='Elon_Reeve_Musk', type='Person', properties={}), target=Node(id='University_Of_Pretoria', type='University', properties={}), type='ATTENDED', properties={}), Relationship(source=Node(id='Elon_Reeve_Musk', type='Person', properties={}), target=Node(id='Canada', type='Country', properties={}), type='IMMIGRATED', properties={}), Relationship(source=Node(id='Elon_Reeve_Musk', type='Person', properties={}), target=Node(id=\"Queen'S_University_At_Kingston\", type='University', properties={}), type='MATRICULATED', properties={}), Relationship(source=Node(id='Elon_Reeve_Musk', type='Person', properties={}), target=Node(id='University_Of_Pennsylvania', type='University', properties={}), type='RECEIVED_DEGREE', properties={}), Relationship(source=Node(id='Elon_Reeve_Musk', type='Person', properties={}), target=Node(id='California', type='State', properties={}), type='MOVED', properties={}), Relationship(source=Node(id='Elon_Reeve_Musk', type='Person', properties={}), target=Node(id='Stanford_University', type='University', properties={}), type='DROPPED_OUT', properties={}), Relationship(source=Node(id='Elon_Reeve_Musk', type='Person', properties={}), target=Node(id='Zip2', type='Online_city_guide_software_company', properties={}), type='CO-FOUNDER', properties={}), Relationship(source=Node(id='Zip2', type='Online_city_guide_software_company', properties={}), target=Node(id='Compaq', type='Computer_manufacturing_company', properties={}), type='ACQUIRED_BY', properties={}), Relationship(source=Node(id='Elon_Reeve_Musk', type='Person', properties={}), target=Node(id='X.Com', type='Direct_bank', properties={}), type='CO-FOUNDER', properties={}), Relationship(source=Node(id='X.Com', type='Direct_bank', properties={}), target=Node(id='Confinity', type='Digital_payment_company', properties={}), type='MERGED_WITH', properties={}), Relationship(source=Node(id='Paypal', type='Direct_payment_company', properties={}), target=Node(id='Ebay', type='Online_auction_company', properties={}), type='ACQUIRED_BY', properties={}), Relationship(source=Node(id='Elon_Reeve_Musk', type='Person', properties={}), target=Node(id='Spacex', type='Space_company', properties={}), type='FOUNDER', properties={}), Relationship(source=Node(id='Elon_Reeve_Musk', type='Person', properties={}), target=Node(id='Tesla_Inc', type='Automotive_company', properties={}), type='INVESTOR', properties={}), Relationship(source=Node(id='Elon_Reeve_Musk', type='Person', properties={}), target=Node(id='Solarcity', type='Solar_energy_company', properties={}), type='CO-FOUNDER', properties={}), Relationship(source=Node(id='Elon_Reeve_Musk', type='Person', properties={}), target=Node(id='John_Doe', type='Person', properties={}), type='SAME_AS', properties={})], source=Document(metadata={'title': 'Elon Musk', 'summary': 'Elon Reeve Musk  (; born June 28, 1971) is a businessman and investor known for his key roles in the space company SpaceX and the automotive company Tesla, Inc. Other involvements include ownership of X Corp., the company that operates the social media platform X (formerly known as Twitter), and his role in the founding of the Boring Company, xAI, Neuralink, and OpenAI. He is one of the wealthiest individuals in the world; as of August 2024 Forbes estimates his net worth to be US$247 billion.\\nMusk was born in Pretoria, South Africa, to Maye (née Haldeman), a model, and Errol Musk, a businessman and engineer. Musk briefly attended the University of Pretoria before immigrating to Canada at the age of 18, acquiring citizenship through his Canadian-born mother. Two years later he matriculated at Queen\\'s University at Kingston in Canada. Musk later transferred to the University of Pennsylvania and received bachelor\\'s degrees in economics and physics. He moved to California in 1995 to attend Stanford University, but dropped out after two days and, with his brother Kimbal, co-founded the online city guide software company Zip2. The startup was acquired by Compaq for $307 million in 1999. That same year Musk co-founded X.com, a direct bank. X.com merged with Confinity in 2000 to form PayPal. In 2002 Musk acquired US citizenship. That October  eBay acquired PayPal for $1.5 billion. Using $100 million of the money he made from the sale of PayPal, Musk founded SpaceX, a spaceflight services company, in 2002. \\nIn 2004, Musk was an early investor who provided most of the initial financing in the electric-vehicle manufacturer Tesla Motors, Inc. (later Tesla, Inc.), assuming the position of the company\\'s chairman. He later became the product architect and, in 2008, the CEO. In 2006, Musk helped create SolarCity, a solar energy company that was acquired by Tesla in 2016 and became Tesla Energy. In 2013, he proposed a hyperloop high-speed vactrain transportation system. In 2015, he co-founded OpenAI, a nonprofit artificial intelligence research company. The following year Musk co-founded Neuralink, a neurotechnology company developing brain–computer interfaces, and The Boring Company, a tunnel construction company. In 2018 the U.S. Securities and Exchange Commission (SEC) sued Musk, alleging that he had falsely announced that he had secured funding for a private takeover of Tesla. To settle the case Musk stepped down as the chairman of Tesla and paid a $20 million fine. In 2022, he acquired Twitter for $44 billion, merged the company into the newly-created X Corp. and rebranded the service as X the following year. In March 2023, Musk founded xAI, an artificial-intelligence company.\\nMusk has expressed views that have made him a polarizing figure. He has been criticized for making unscientific and misleading statements, including COVID-19 misinformation, promoting right-wing conspiracy theories, and \"endorsing an antisemitic theory\"; he later apologized for the last of these. His ownership of Twitter has been controversial because of the layoffs of large numbers of employees, an increase in hate speech, misinformation and disinformation posts on the website, and changes to website features, including X Premium verification.\\n\\n', 'source': 'https://en.wikipedia.org/wiki/Elon_Musk'}, page_content=\"Elon Reeve Musk  (; born June 28, 1971) is a businessman and investor known for his key roles in the space company SpaceX and the automotive company Tesla, Inc. Other involvements include ownership of X Corp., the company that operates the social media platform X (formerly known as Twitter), and his role in the founding of the Boring Company, xAI, Neuralink, and OpenAI. He is one of the wealthiest individuals in the world; as of August 2024 Forbes estimates his net worth to be US$247 billion.\\nMusk was born in Pretoria, South Africa, to Maye (née Haldeman), a model, and Errol Musk, a businessman and engineer. Musk briefly attended the University of Pretoria before immigrating to Canada at the age of 18, acquiring citizenship through his Canadian-born mother. Two years later he matriculated at Queen's University at Kingston in Canada. Musk later transferred to the University of Pennsylvania and received bachelor's degrees in economics and physics. He moved to California in 1995 to attend Stanford University, but dropped out after two days and, with his brother Kimbal, co-founded the online city guide software company Zip2. The startup was acquired by Compaq for $307 million in 1999. That same year Musk co-founded X.com, a direct bank. X.com merged with Confinity in 2000 to form PayPal. In 2002 Musk acquired US citizenship. That October  eBay acquired PayPal for $1.5 billion. Using $100 million of the money he made from the sale of PayPal, Musk founded SpaceX, a spaceflight services company, in 2002. \\nIn 2004, Musk was an early investor who provided most of the initial financing in the electric-vehicle manufacturer Tesla Motors, Inc. (later Tesla, Inc.), assuming the position of the company's chairman. He later became the product architect and, in 2008, the CEO. In 2006, Musk helped create SolarCity, a solar energy company that was acquired by Tesla in 2016 and became Tesla Energy. In 2013, he proposed a hyperloop high-speed vactrain transportation system. In 2015, he co-founded OpenAI, a nonprofit artificial intelligence research company. The following year Musk co-founded Neuralink, a neurotechnology company developing brain–computer interfaces, and The Boring Company, a tunnel construction company. In 2018 the U.S. Securities and Exchange Commission (SEC) sued Musk,\")),\n",
              " GraphDocument(nodes=[Node(id='Elon_Musk', type='Person', properties={}), Node(id='The_Boring_Company', type='Company', properties={}), Node(id='Tesla', type='Company', properties={}), Node(id='X_Corp', type='Company', properties={}), Node(id='Xai', type='Company', properties={}), Node(id='U.S._Securities_And_Exchange_Commission', type='Organization', properties={}), Node(id='Twitter', type='Company', properties={})], relationships=[Relationship(source=Node(id='Elon_Musk', type='Person', properties={}), target=Node(id='The_Boring_Company', type='Company', properties={}), type='FOUNDED', properties={}), Relationship(source=Node(id='Elon_Musk', type='Person', properties={}), target=Node(id='Tesla', type='Company', properties={}), type='CHAIRMAN', properties={}), Relationship(source=Node(id='Elon_Musk', type='Person', properties={}), target=Node(id='Tesla', type='Company', properties={}), type='STEPPED_DOWN_AS_CHAIRMAN', properties={}), Relationship(source=Node(id='Elon_Musk', type='Person', properties={}), target=Node(id='Tesla', type='Company', properties={}), type='PAID_FINE', properties={}), Relationship(source=Node(id='Elon_Musk', type='Person', properties={}), target=Node(id='X_Corp', type='Company', properties={}), type='ACQUIRED', properties={}), Relationship(source=Node(id='Elon_Musk', type='Person', properties={}), target=Node(id='Twitter', type='Company', properties={}), type='OWNED', properties={}), Relationship(source=Node(id='Elon_Musk', type='Person', properties={}), target=Node(id='Twitter', type='Company', properties={}), type='MERGED_INTO_X_CORP', properties={}), Relationship(source=Node(id='Elon_Musk', type='Person', properties={}), target=Node(id='Xai', type='Company', properties={}), type='FOUNDED', properties={}), Relationship(source=Node(id='U.S._Securities_And_Exchange_Commission', type='Organization', properties={}), target=Node(id='Elon_Musk', type='Person', properties={}), type='SUED', properties={})], source=Document(metadata={'title': 'Elon Musk', 'summary': 'Elon Reeve Musk  (; born June 28, 1971) is a businessman and investor known for his key roles in the space company SpaceX and the automotive company Tesla, Inc. Other involvements include ownership of X Corp., the company that operates the social media platform X (formerly known as Twitter), and his role in the founding of the Boring Company, xAI, Neuralink, and OpenAI. He is one of the wealthiest individuals in the world; as of August 2024 Forbes estimates his net worth to be US$247 billion.\\nMusk was born in Pretoria, South Africa, to Maye (née Haldeman), a model, and Errol Musk, a businessman and engineer. Musk briefly attended the University of Pretoria before immigrating to Canada at the age of 18, acquiring citizenship through his Canadian-born mother. Two years later he matriculated at Queen\\'s University at Kingston in Canada. Musk later transferred to the University of Pennsylvania and received bachelor\\'s degrees in economics and physics. He moved to California in 1995 to attend Stanford University, but dropped out after two days and, with his brother Kimbal, co-founded the online city guide software company Zip2. The startup was acquired by Compaq for $307 million in 1999. That same year Musk co-founded X.com, a direct bank. X.com merged with Confinity in 2000 to form PayPal. In 2002 Musk acquired US citizenship. That October  eBay acquired PayPal for $1.5 billion. Using $100 million of the money he made from the sale of PayPal, Musk founded SpaceX, a spaceflight services company, in 2002. \\nIn 2004, Musk was an early investor who provided most of the initial financing in the electric-vehicle manufacturer Tesla Motors, Inc. (later Tesla, Inc.), assuming the position of the company\\'s chairman. He later became the product architect and, in 2008, the CEO. In 2006, Musk helped create SolarCity, a solar energy company that was acquired by Tesla in 2016 and became Tesla Energy. In 2013, he proposed a hyperloop high-speed vactrain transportation system. In 2015, he co-founded OpenAI, a nonprofit artificial intelligence research company. The following year Musk co-founded Neuralink, a neurotechnology company developing brain–computer interfaces, and The Boring Company, a tunnel construction company. In 2018 the U.S. Securities and Exchange Commission (SEC) sued Musk, alleging that he had falsely announced that he had secured funding for a private takeover of Tesla. To settle the case Musk stepped down as the chairman of Tesla and paid a $20 million fine. In 2022, he acquired Twitter for $44 billion, merged the company into the newly-created X Corp. and rebranded the service as X the following year. In March 2023, Musk founded xAI, an artificial-intelligence company.\\nMusk has expressed views that have made him a polarizing figure. He has been criticized for making unscientific and misleading statements, including COVID-19 misinformation, promoting right-wing conspiracy theories, and \"endorsing an antisemitic theory\"; he later apologized for the last of these. His ownership of Twitter has been controversial because of the layoffs of large numbers of employees, an increase in hate speech, misinformation and disinformation posts on the website, and changes to website features, including X Premium verification.\\n\\n', 'source': 'https://en.wikipedia.org/wiki/Elon_Musk'}, page_content=' company developing brain–computer interfaces, and The Boring Company, a tunnel construction company. In 2018 the U.S. Securities and Exchange Commission (SEC) sued Musk, alleging that he had falsely announced that he had secured funding for a private takeover of Tesla. To settle the case Musk stepped down as the chairman of Tesla and paid a $20 million fine. In 2022, he acquired Twitter for $44 billion, merged the company into the newly-created X Corp. and rebranded the service as X the following year. In March 2023, Musk founded xAI, an artificial-intelligence company.\\nMusk has expressed views that have made him a polarizing figure. He has been criticized for making unscientific and misleading statements, including COVID-19 misinformation, promoting right-wing conspiracy theories, and \"endorsing an antisemitic theory\"; he later apologized for the last of these. His ownership of Twitter has been controversial because of the layoffs of large numbers of employees, an increase in hate speech, misinformation and disinformation posts on the website, and changes to website features, including X Premium verification.\\n\\n\\n== Early life and education ==\\n\\n\\n=== Childhood and family ===\\n\\nElon Reeve Musk was born on June 28, 1971, in Pretoria, South Africa\\'s administrative capital. He is of British and Pennsylvania Dutch ancestry. His mother, Maye (née Haldeman), is a model and dietitian born in Saskatchewan, Canada, and raised in South Africa. His father, Errol Musk, is a South African electromechanical engineer, pilot, sailor, consultant, emerald dealer, and property developer, who partly owned a rental lodge at the Timbavati Private Nature Reserve. Elon has a younger brother, Kimbal, and a younger sister, Tosca.  Elon has four paternal half-siblings.\\nThe family was wealthy during Elon\\'s youth. Despite both Musk and Errol previously stating tha')),\n",
              " GraphDocument(nodes=[Node(id='Elon Musk', type='Person', properties={}), Node(id='Tesla', type='Company', properties={}), Node(id='Spacex', type='Company', properties={}), Node(id='X Corp', type='Company', properties={}), Node(id='Bolivia', type='Country', properties={}), Node(id='China', type='Country', properties={}), Node(id='United States', type='Country', properties={}), Node(id='Ccp', type='Political party', properties={}), Node(id='Vivek Ramaswamy', type='Person', properties={}), Node(id='Republican Party', type='Political party', properties={}), Node(id='2024 Republican Presidential Primaries', type='Event', properties={}), Node(id='Gigafactory Shanghai', type='Factory', properties={}), Node(id='Cyberspace Administration Of China', type='Organization', properties={})], relationships=[Relationship(source=Node(id='Elon Musk', type='Person', properties={}), target=Node(id='Tesla', type='Company', properties={}), type='CEO', properties={}), Relationship(source=Node(id='Elon Musk', type='Person', properties={}), target=Node(id='Spacex', type='Company', properties={}), type='OWNER', properties={}), Relationship(source=Node(id='Elon Musk', type='Person', properties={}), target=Node(id='X Corp', type='Company', properties={}), type='OWNER', properties={}), Relationship(source=Node(id='Elon Musk', type='Person', properties={}), target=Node(id='Bolivia', type='Country', properties={}), type='EXPRESSED_INTEREST_IN_LITHIUM', properties={}), Relationship(source=Node(id='Elon Musk', type='Person', properties={}), target=Node(id='China', type='Country', properties={}), type='PRAISED', properties={}), Relationship(source=Node(id='Elon Musk', type='Person', properties={}), target=Node(id='China', type='Country', properties={}), type='HAS_CLOSE_RELATIONSHIP', properties={}), Relationship(source=Node(id='Elon Musk', type='Person', properties={}), target=Node(id='Gigafactory Shanghai', type='Factory', properties={}), type='PRODUCED_FIRST_BATCH_OF_VEHICLES', properties={}), Relationship(source=Node(id='Elon Musk', type='Person', properties={}), target=Node(id='United States', type='Country', properties={}), type='CRITICIZED', properties={}), Relationship(source=Node(id='Elon Musk', type='Person', properties={}), target=Node(id='Ccp', type='Political party', properties={}), type='PRAISED_ECONOMIC_PROSPERITY', properties={}), Relationship(source=Node(id='Elon Musk', type='Person', properties={}), target=Node(id='Cyberspace Administration Of China', type='Organization', properties={}), type='WROTE_ARTICLE', properties={}), Relationship(source=Node(id='Elon Musk', type='Person', properties={}), target=Node(id='Vivek Ramaswamy', type='Person', properties={}), type='EXPRESSED_SUPPORT_IN_2024_REPUBLICAN_PRESIDENTIAL_PRIMARIES', properties={}), Relationship(source=Node(id='Elon Musk', type='Person', properties={}), target=Node(id='Republican Party', type='Political party', properties={}), type='STARTED_VOTING_FOR', properties={})], source=Document(metadata={'title': 'Views of Elon Musk', 'summary': 'Elon Musk is the CEO or owner of multiple companies including Tesla, SpaceX, and X Corp, and has expressed many views on a wide variety of subjects, ranging from politics to science.\\nMusk has often been described as libertarian, but also describes himself as \"politically moderate\". Following the COVID-19 pandemic, however, his views have also been described as becoming more right-wing and conservative over time. Within the context of American politics, Musk has said he supported Barack Obama in 2008 and 2012, Hillary Clinton in 2016, Joe Biden in 2020, and Donald Trump in 2024. In 2022, Musk said he would start voting for Republican Party candidates, with him showing support for Vivek Ramaswamy in the 2024 Republican presidential primaries. He has stated support for universal basic income, gun rights, freedom of speech, a tax on carbon emissions and opposes government subsidies. He is also a critic of illegal immigration and short-selling.\\nMusk has expressed concern about issues such as artificial intelligence (AI), climate change and population decline. He has also criticized COVID-19 lockdowns, public transportation, and labor unions. He has promoted conspiracy theories, and made controversial statements that have led to accusations of sexism, antisemitism, support of white pride and transphobia. His views on international relations, including on the China-Taiwan and Russia-Ukraine conflicts, have received mixed reactions.', 'source': 'https://en.wikipedia.org/wiki/Views_of_Elon_Musk'}, page_content='Elon Musk is the CEO or owner of multiple companies including Tesla, SpaceX, and X Corp, and has expressed many views on a wide variety of subjects, ranging from politics to science.\\nMusk has often been described as libertarian, but also describes himself as \"politically moderate\". Following the COVID-19 pandemic, however, his views have also been described as becoming more right-wing and conservative over time. Within the context of American politics, Musk has said he supported Barack Obama in 2008 and 2012, Hillary Clinton in 2016, Joe Biden in 2020, and Donald Trump in 2024. In 2022, Musk said he would start voting for Republican Party candidates, with him showing support for Vivek Ramaswamy in the 2024 Republican presidential primaries. He has stated support for universal basic income, gun rights, freedom of speech, a tax on carbon emissions and opposes government subsidies. He is also a critic of illegal immigration and short-selling.\\nMusk has expressed concern about issues such as artificial intelligence (AI), climate change and population decline. He has also criticized COVID-19 lockdowns, public transportation, and labor unions. He has promoted conspiracy theories, and made controversial statements that have led to accusations of sexism, antisemitism, support of white pride and transphobia. His views on international relations, including on the China-Taiwan and Russia-Ukraine conflicts, have received mixed reactions.\\n\\n\\n== International relations ==\\n\\n\\n=== Bolivia ===\\nIn July 2020, Musk tweeted, \"We will coup whoever we want! Deal with it\" in response to a Twitter user who implied that the US government organized a coup (referring to the 2019 Bolivian political crisis) against Evo Morales for Musk to obtain lithium from Bolivia. Musk\\'s tweet caused controversy and was later deleted.\\n\\n\\n=== China ===\\nMusk has praised China and has been described as having a close relationship with the Chinese government, allowing access to its markets for Tesla. After Gigafactory Shanghai produced its first batch of vehicles, Musk thanked the Chinese government and Chinese people while criticizing the United States and its people.:\\u200a207–208\\u200a On the 100th anniversary of the founding of the Chinese Communist Party, Musk praised the state\\'s \"economic prosperity\". In 2022, Musk wrote an article for China Cyberspace, the official publication of Cyberspace Administration of China, which enforces Internet censorship in China. His writing the article was described as conflicting with')),\n",
              " GraphDocument(nodes=[Node(id='Russian Invasion Of Ukraine', type='Event', properties={}), Node(id='Musk', type='Person', properties={}), Node(id='Twitter', type='Organization', properties={}), Node(id='Cyberspace Administration Of China', type='Organization', properties={}), Node(id='China', type='Country', properties={}), Node(id='Crimea', type='Region', properties={}), Node(id='Kherson', type='Region', properties={}), Node(id='Zaporizhzhia', type='Region', properties={}), Node(id='Nato', type='Organization', properties={}), Node(id='United Nations', type='Organization', properties={}), Node(id='Fiona Hill', type='Person', properties={}), Node(id='Politico', type='Organization', properties={}), Node(id='Vladimir Putin', type='Person', properties={}), Node(id='Ian Bremmer', type='Person', properties={}), Node(id='Eurasia Group', type='Organization', properties={})], relationships=[Relationship(source=Node(id='Musk', type='Person', properties={}), target=Node(id='Twitter', type='Organization', properties={}), type='USER', properties={}), Relationship(source=Node(id='Musk', type='Person', properties={}), target=Node(id='Russian Invasion Of Ukraine', type='Event', properties={}), type='PROPOSE', properties={}), Relationship(source=Node(id='Russian Invasion Of Ukraine', type='Event', properties={}), target=Node(id='Crimea', type='Region', properties={}), type='OCCUPY', properties={}), Relationship(source=Node(id='Russian Invasion Of Ukraine', type='Event', properties={}), target=Node(id='Kherson', type='Region', properties={}), type='OCCUPY', properties={}), Relationship(source=Node(id='Russian Invasion Of Ukraine', type='Event', properties={}), target=Node(id='Zaporizhzhia', type='Region', properties={}), type='OCCUPY', properties={}), Relationship(source=Node(id='Musk', type='Person', properties={}), target=Node(id='Nato', type='Organization', properties={}), type='DISCOURAGE_JOIN', properties={}), Relationship(source=Node(id='Musk', type='Person', properties={}), target=Node(id='United Nations', type='Organization', properties={}), type='REQUEST_REFERENDUM', properties={}), Relationship(source=Node(id='Musk', type='Person', properties={}), target=Node(id='Crimea', type='Region', properties={}), type='SECURE_WATER_SUPPLY', properties={}), Relationship(source=Node(id='Musk', type='Person', properties={}), target=Node(id='Fiona Hill', type='Person', properties={}), type='COMMUNICATE', properties={}), Relationship(source=Node(id='Fiona Hill', type='Person', properties={}), target=Node(id='Musk', type='Person', properties={}), type='COMMUNICATE', properties={}), Relationship(source=Node(id='Fiona Hill', type='Person', properties={}), target=Node(id='Politico', type='Organization', properties={}), type='COMMUNICATE', properties={}), Relationship(source=Node(id='Fiona Hill', type='Person', properties={}), target=Node(id='Vladimir Putin', type='Person', properties={}), type='ASSOCIATE', properties={}), Relationship(source=Node(id='Musk', type='Person', properties={}), target=Node(id='Ian Bremmer', type='Person', properties={}), type='COMMUNICATE', properties={}), Relationship(source=Node(id='Musk', type='Person', properties={}), target=Node(id='Eurasia Group', type='Organization', properties={}), type='COMMUNICATE', properties={})], source=Document(metadata={'title': 'Views of Elon Musk', 'summary': 'Elon Musk is the CEO or owner of multiple companies including Tesla, SpaceX, and X Corp, and has expressed many views on a wide variety of subjects, ranging from politics to science.\\nMusk has often been described as libertarian, but also describes himself as \"politically moderate\". Following the COVID-19 pandemic, however, his views have also been described as becoming more right-wing and conservative over time. Within the context of American politics, Musk has said he supported Barack Obama in 2008 and 2012, Hillary Clinton in 2016, Joe Biden in 2020, and Donald Trump in 2024. In 2022, Musk said he would start voting for Republican Party candidates, with him showing support for Vivek Ramaswamy in the 2024 Republican presidential primaries. He has stated support for universal basic income, gun rights, freedom of speech, a tax on carbon emissions and opposes government subsidies. He is also a critic of illegal immigration and short-selling.\\nMusk has expressed concern about issues such as artificial intelligence (AI), climate change and population decline. He has also criticized COVID-19 lockdowns, public transportation, and labor unions. He has promoted conspiracy theories, and made controversial statements that have led to accusations of sexism, antisemitism, support of white pride and transphobia. His views on international relations, including on the China-Taiwan and Russia-Ukraine conflicts, have received mixed reactions.', 'source': 'https://en.wikipedia.org/wiki/Views_of_Elon_Musk'}, page_content=' article for China Cyberspace, the official publication of Cyberspace Administration of China, which enforces Internet censorship in China. His writing the article was described as conflicting with his advocacy for free speech.\\n\\n\\n=== Russian invasion of Ukraine ===\\n\\nFollowing the Russian invasion of Ukraine, Musk floated a controversial proposal on Twitter in October 2022, arguing that Ukraine should permanently cede occupied territories (e.g. Crimea) to Russia, and that Ukraine should drop its bid to join NATO. The four-part proposal, posted as a Twitter poll, suggested new referendums under United Nations supervision on the annexation of Russia-occupied territories. The proposal was welcomed by the Russian government and denounced by Ukrainian President Volodymyr Zelenskyy as \"pro-Russia\", with officials noting that people who had been murdered or forcibly deported by Russia would be unable to vote.\\nMusk appeared to be \"transmitting a message\" for Russian President Vladimir Putin, according to foreign affairs specialist Fiona Hill. In Politico\\'s interview with Hill, she said that Musk\\'s suggestion that Kherson and Zaporizhzhia be up for negotiation, and that the water supply for Crimea be secured, was \"so specific that this clearly is a message from Putin\". Musk previously made a similar suggestion at a September event in Aspen, Colorado. Hill told Politico, \"Putin plays the egos of big men, gives them a sense that they can play a role. But in reality, they\\'re just direct transmitters of messages from Vladimir Putin\".\\nIn an email newsletter, Ian Bremmer, head of Eurasia Group, a political-risk consultancy, said that Musk told him that he had spoken directly wit')),\n",
              " GraphDocument(nodes=[Node(id='Elon Musk', type='Person', properties={}), Node(id='Maye Musk', type='Person', properties={}), Node(id='Errol Musk', type='Person', properties={}), Node(id='Kimbal Musk', type='Person', properties={}), Node(id='Tosca Musk', type='Person', properties={}), Node(id='Lyndon Rive', type='Person', properties={}), Node(id='Justine Musk', type='Person', properties={}), Node(id='Talulah Riley', type='Person', properties={}), Node(id=\"Elon'S Paternal Great-Grandmother\", type='Person', properties={}), Node(id=\"Elon'S Maternal Great-Grandparent\", type='Person', properties={}), Node(id=\"Elon'S Paternal Grandmother\", type='Person', properties={}), Node(id=\"Elon'S Paternal Grandfather\", type='Person', properties={}), Node(id=\"Elon'S Maternal Grandparents\", type='Person', properties={}), Node(id='Cora Amelia', type='Person', properties={}), Node(id='Walter Henry James Musk', type='Person', properties={})], relationships=[Relationship(source=Node(id='Elon Musk', type='Person', properties={}), target=Node(id='Maye Musk', type='Person', properties={}), type='PARENT', properties={}), Relationship(source=Node(id='Elon Musk', type='Person', properties={}), target=Node(id='Errol Musk', type='Person', properties={}), type='PARENT', properties={}), Relationship(source=Node(id='Elon Musk', type='Person', properties={}), target=Node(id='Kimbal Musk', type='Person', properties={}), type='SIBLING', properties={}), Relationship(source=Node(id='Elon Musk', type='Person', properties={}), target=Node(id='Tosca Musk', type='Person', properties={}), type='SIBLING', properties={}), Relationship(source=Node(id='Elon Musk', type='Person', properties={}), target=Node(id='Lyndon Rive', type='Person', properties={}), type='COUSIN', properties={}), Relationship(source=Node(id='Elon Musk', type='Person', properties={}), target=Node(id='Justine Musk', type='Person', properties={}), type='SPOUSE', properties={}), Relationship(source=Node(id='Elon Musk', type='Person', properties={}), target=Node(id='Talulah Riley', type='Person', properties={}), type='SPOUSE', properties={}), Relationship(source=Node(id=\"Elon'S Paternal Great-Grandmother\", type='Person', properties={}), target=Node(id=\"Elon'S Paternal Grandmother\", type='Person', properties={}), type='PARENT', properties={}), Relationship(source=Node(id=\"Elon'S Paternal Grandmother\", type='Person', properties={}), target=Node(id=\"Elon'S Paternal Grandfather\", type='Person', properties={}), type='PARENT', properties={}), Relationship(source=Node(id=\"Elon'S Paternal Grandfather\", type='Person', properties={}), target=Node(id='Errol Musk', type='Person', properties={}), type='PARENT', properties={}), Relationship(source=Node(id=\"Elon'S Maternal Great-Grandparent\", type='Person', properties={}), target=Node(id=\"Elon'S Maternal Grandparents\", type='Person', properties={}), type='PARENT', properties={}), Relationship(source=Node(id=\"Elon'S Maternal Grandparents\", type='Person', properties={}), target=Node(id='Maye Musk', type='Person', properties={}), type='PARENT', properties={}), Relationship(source=Node(id='Cora Amelia', type='Person', properties={}), target=Node(id='Walter Henry James Musk', type='Person', properties={}), type='PARENT', properties={}), Relationship(source=Node(id='Walter Henry James Musk', type='Person', properties={}), target=Node(id='Errol Musk', type='Person', properties={}), type='PARENT', properties={})], source=Document(metadata={'title': 'Family of Elon Musk', 'summary': 'The family of Elon Musk includes his mother Maye Musk, a model and author, his father Errol Musk, a businessman and politician, his siblings Kimbal Musk  and Tosca Musk, and his cousin Lyndon Rive. His ex-wives are Justine Musk and Talulah Riley.', 'source': 'https://en.wikipedia.org/wiki/Family_of_Elon_Musk'}, page_content='The family of Elon Musk includes his mother Maye Musk, a model and author, his father Errol Musk, a businessman and politician, his siblings Kimbal Musk  and Tosca Musk, and his cousin Lyndon Rive. His ex-wives are Justine Musk and Talulah Riley.\\n\\n\\n== History ==\\nElon Musk\\'s paternal great-grandmother was a Dutchwoman descended from the Dutch Free Burghers, while one of his maternal great-grandparents came from the Haldimann family in Switzerland. His paternal grandmother was English from Liverpool and his paternal grandfather Walter Henry J. Musk was South African. Elon Musk\\'s father, Errol Musk, is a South African former electrical and mechanical engineer consultant and property developer, who was involved in emerald mines in the 1980s, and was a member of the South African Progressive Federal Party.:\\u200a225,\\u200afn 119\\u200a\\nHis maternal grandparents Winnifred Josephine \"Wyn\" (Fletcher) and Joshua Norman Haldeman were explorers who lived in South Africa and Canada and searched for the Lost City of the Kalahari. Joshua Haldeman was a former director of Technocracy Incorporated and a political activist who ran for the Canadian Parliament on the Social Credit Party ticket, and headed the Canadian branch of the Technocracy movement.\\n\\n\\n== Parents ==\\n\\n\\n=== Errol Musk ===\\n\\nErrol Musk is a retired South African engineer, politician, and businessman. Errol Musk was born in South Africa.  His mother, Cora Amelia, was British and his father Walter Henry James Musk was a South African army sergeant. He attended Clapham High School, where he dated Maye Haldeman. The pair married in 1970.:\\u200a44\\u200a The family lived in Pretoria, where Maye worked as a dietician and a model. Their first child, Elon Reeve Musk, was born in 1971, named after his wife\\'s grandfather J. Elon Haldeman with  Reeve from her maternal grandmother\\'s maiden name.\\nOn 9 March 1972, Musk was elected as an independent to represent Sunnyside on the Pretoria City Council.:\\u200a52\\u200a\\nHe became a member of the recently-formed Progressive Federal Party and ran as their nominee in the 1981 election.:\\u200a52\\u200a:\\u200a225,\\u200afn 119\\u200a In 1983, his resignation from the party amid divisions over a constitutional referendum was')),\n",
              " GraphDocument(nodes=[Node(id='1981_Election', type='Event', properties={}), Node(id='Musk', type='Person', properties={}), Node(id='University_Of_Pretoria', type='Educational_institution', properties={}), Node(id='Timbavati_Game_Reserve', type='Location', properties={}), Node(id='Zambian_Emerald_Mines', type='Resource', properties={}), Node(id='Maye', type='Person', properties={}), Node(id='Elon', type='Person', properties={}), Node(id='Kimbal_Musk', type='Person', properties={}), Node(id='Tosca_Musk', type='Person', properties={}), Node(id='Jana_Bezuidenhout', type='Person', properties={}), Node(id='Sue', type='Person', properties={}), Node(id='Errol', type='Person', properties={})], relationships=[Relationship(source=Node(id='Musk', type='Person', properties={}), target=Node(id='University_Of_Pretoria', type='Educational_institution', properties={}), type='EDUCATED_AT', properties={}), Relationship(source=Node(id='Musk', type='Person', properties={}), target=Node(id='Timbavati_Game_Reserve', type='Location', properties={}), type='BUILT_LODGE', properties={}), Relationship(source=Node(id='Musk', type='Person', properties={}), target=Node(id='Zambian_Emerald_Mines', type='Resource', properties={}), type='ACQUIRED_OUTPUT', properties={}), Relationship(source=Node(id='Musk', type='Person', properties={}), target=Node(id='Maye', type='Person', properties={}), type='MARRIED', properties={}), Relationship(source=Node(id='Musk', type='Person', properties={}), target=Node(id='Elon', type='Person', properties={}), type='PARENT_OF', properties={}), Relationship(source=Node(id='Musk', type='Person', properties={}), target=Node(id='Kimbal_Musk', type='Person', properties={}), type='PARENT_OF', properties={}), Relationship(source=Node(id='Musk', type='Person', properties={}), target=Node(id='Tosca_Musk', type='Person', properties={}), type='PARENT_OF', properties={}), Relationship(source=Node(id='Musk', type='Person', properties={}), target=Node(id='Jana_Bezuidenhout', type='Person', properties={}), type='PARENT_OF', properties={}), Relationship(source=Node(id='Musk', type='Person', properties={}), target=Node(id='Sue', type='Person', properties={}), type='MARRIED', properties={}), Relationship(source=Node(id='Errol', type='Person', properties={}), target=Node(id='Maye', type='Person', properties={}), type='SHOWED_UP_WITH_KNIFE', properties={}), Relationship(source=Node(id='Musk', type='Person', properties={}), target=Node(id='Maye', type='Person', properties={}), type='SUED_FOR_CUSTODY', properties={}), Relationship(source=Node(id='Errol', type='Person', properties={}), target=Node(id='Intruder', type='Person', properties={}), type='SHOT_IN_SELF_DEFENSE', properties={})], source=Document(metadata={'title': 'Family of Elon Musk', 'summary': 'The family of Elon Musk includes his mother Maye Musk, a model and author, his father Errol Musk, a businessman and politician, his siblings Kimbal Musk  and Tosca Musk, and his cousin Lyndon Rive. His ex-wives are Justine Musk and Talulah Riley.', 'source': 'https://en.wikipedia.org/wiki/Family_of_Elon_Musk'}, page_content=' the 1981 election.:\\u200a52\\u200a:\\u200a225,\\u200afn 119\\u200a In 1983, his resignation from the party amid divisions over a constitutional referendum was front page news.:\\u200a225,\\u200afn 119\\u200a\\nMusk studied electromechanics at the University of Pretoria, worked as an electrical and mechanical engineering consultant and developed properties.  He specialised in retail and office property development.:\\u200a27\\u200a Musk owned \"one of the biggest houses in Pretoria\" thanks to his lucrative engineering business which took on \"large projects such as office buildings, retail complexes, residential subdivisions, and an air force base.\" Musk also owned an auto parts store.  In 1979, Musk and wife Maye divorced.  Maye\\'s book recalls that at the time of the divorce, he owned two homes, a yacht, a plane, five luxury cars, and a truck.\\nMaye recounts a time during their divorce when she sought refuge at a neighbor\\'s home after Errol showed up with a knife looking for her. After the divorce, Musk repeatedly sued his ex-wife for custody of their children.   \\nMusk was briefly married to a wife, Sue.   \\nIn the early 1980s, Musk built a lodge in the Timbavati Game Reserve to rent to tourists.:\\u200ach. 3\\u200a\\nIn 1986, Musk acquired the output of three Zambian emerald mines, though he could not acquire the actual mines themselves.  In interviews with Walter Issacson, Musk explained:  \"If you registered it, you would wind up with nothing, because the Blacks would take everything from you\".:\\u200ach. 1\\u200a\\nIn the 21st century, Musk achieved notoriety for his relationships with ex-wife Maye, their children Elon, restaurateur Kimbal Musk, and filmmaker Tosca Musk, as well as for his step-daughter turned romantic partner, Jana Bezuidenhout.\\nIn 2014, Musk gave an interview to American media about his son Elon. In 2017, Musk was interviewed by Neil Strauss of Rolling Stone for a profile of Elon titled \"The Architect of Tomorrow\". In that piece Errol recalled that he had once shot and killed in self-defense \"t'))]"
            ]
          },
          "execution_count": 30,
          "metadata": {},
          "output_type": "execute_result"
        }
      ],
      "source": [
        "graph_documents = llm_transformer.convert_to_graph_documents(documents)\n",
        "graph_documents"
      ]
    },
    {
      "cell_type": "markdown",
      "metadata": {
        "id": "owfTWourzINe"
      },
      "source": [
        "Inserting data into knowledge graph"
      ]
    },
    {
      "cell_type": "code",
      "execution_count": null,
      "metadata": {
        "id": "IfZWl55_Ti1C"
      },
      "outputs": [],
      "source": [
        "graph.add_graph_documents(\n",
        "    graph_documents,\n",
        "    baseEntityLabel=True,\n",
        "    include_source=True\n",
        ")"
      ]
    },
    {
      "cell_type": "code",
      "execution_count": null,
      "metadata": {
        "id": "g8ZV7IygU7df"
      },
      "outputs": [],
      "source": [
        "# directly show the graph resulting from the given Cypher query\n",
        "default_cypher = \"MATCH (s)-[r:!MENTIONS]->(t) RETURN s,r,t LIMIT 50\""
      ]
    },
    {
      "cell_type": "code",
      "execution_count": null,
      "metadata": {
        "id": "U8tnB0yTU8t6"
      },
      "outputs": [],
      "source": [
        "from yfiles_jupyter_graphs import GraphWidget\n",
        "from neo4j import GraphDatabase"
      ]
    },
    {
      "cell_type": "code",
      "execution_count": null,
      "metadata": {
        "id": "BmAzv8gVVCI0"
      },
      "outputs": [],
      "source": [
        "try:\n",
        "  import google.colab\n",
        "  from google.colab import output\n",
        "  output.enable_custom_widget_manager()\n",
        "except:\n",
        "  pass"
      ]
    },
    {
      "cell_type": "code",
      "execution_count": null,
      "metadata": {
        "id": "powNNIDaVIT7"
      },
      "outputs": [],
      "source": [
        "def showGraph(cypher: str = default_cypher):\n",
        "    # create a neo4j session to run queries\n",
        "    driver = GraphDatabase.driver(\n",
        "        uri = os.environ[\"NEO4J_URI\"],\n",
        "        auth = (os.environ[\"NEO4J_USERNAME\"],\n",
        "                os.environ[\"NEO4J_PASSWORD\"]))\n",
        "    session = driver.session()\n",
        "    widget = GraphWidget(graph = session.run(cypher).graph())\n",
        "    widget.node_label_mapping = 'id'\n",
        "    display(widget)\n",
        "    return widget"
      ]
    },
    {
      "cell_type": "code",
      "execution_count": null,
      "metadata": {
        "id": "xqSrLrVnZmxs"
      },
      "outputs": [],
      "source": [
        "pip install -q langchain_google_genai"
      ]
    },
    {
      "cell_type": "code",
      "execution_count": null,
      "metadata": {
        "id": "F8rq_ARqr1Vb"
      },
      "outputs": [],
      "source": [
        "from langchain_google_genai import GoogleGenerativeAIEmbeddings\n",
        "# Use the wrapper class with Neo4jVector\n",
        "vector_index = Neo4jVector.from_existing_graph(\n",
        "    GoogleGenerativeAIEmbeddings(model=\"models/embedding-001\"),\n",
        "    search_type=\"hybrid\",\n",
        "    node_label=\"Document\",\n",
        "    text_node_properties=[\"text\"],\n",
        "    embedding_node_property=\"embedding\"\n",
        ")"
      ]
    },
    {
      "cell_type": "code",
      "execution_count": null,
      "metadata": {
        "colab": {
          "base_uri": "https://localhost:8080/"
        },
        "id": "sekutALeG8DN",
        "outputId": "c9e0685f-6c1a-4d32-9acd-12c1220c13d9"
      },
      "outputs": [
        {
          "data": {
            "text/plain": [
              "[]"
            ]
          },
          "execution_count": 16,
          "metadata": {},
          "output_type": "execute_result"
        }
      ],
      "source": [
        "graph.query(\"CREATE FULLTEXT INDEX entity IF NOT EXISTS FOR (e:__Entity__) ON EACH [e.id]\")"
      ]
    },
    {
      "cell_type": "code",
      "execution_count": null,
      "metadata": {
        "id": "wV2DbOdxIdoK"
      },
      "outputs": [],
      "source": [
        "from pydantic import BaseModel, Field\n",
        "# Extract entities from text\n",
        "class Entities(BaseModel):\n",
        "    \"\"\"Identifying information about entities.\"\"\"\n",
        "\n",
        "    names: List[str] = Field(\n",
        "        ...,\n",
        "        description=\"All the person, organization, or business entities that \"\n",
        "        \"appear in the text\",\n",
        "    )"
      ]
    },
    {
      "cell_type": "code",
      "execution_count": null,
      "metadata": {
        "id": "KM6q7QbZecp1"
      },
      "outputs": [],
      "source": [
        "from langchain_core.prompts import ChatPromptTemplate\n",
        "from langchain_core.prompts.prompt import PromptTemplate"
      ]
    },
    {
      "cell_type": "code",
      "execution_count": null,
      "metadata": {
        "id": "MSCKB6pYej9G"
      },
      "outputs": [],
      "source": [
        "prompt = ChatPromptTemplate.from_messages(\n",
        "    [\n",
        "        (\n",
        "            \"system\",\n",
        "            \"You are extracting organization and person entities from the text.\",\n",
        "        ),\n",
        "        (\n",
        "            \"human\",\n",
        "            \"Use the given format to extract information from the following \"\n",
        "            \"input: {question}\",\n",
        "        ),\n",
        "    ]\n",
        ")"
      ]
    },
    {
      "cell_type": "code",
      "execution_count": null,
      "metadata": {
        "id": "AEen6AHhIrto"
      },
      "outputs": [],
      "source": [
        "entity_chain = prompt | llm.with_structured_output(Entities)"
      ]
    },
    {
      "cell_type": "code",
      "execution_count": null,
      "metadata": {
        "colab": {
          "base_uri": "https://localhost:8080/"
        },
        "id": "b9PsDQZwIxYJ",
        "outputId": "04d7bfb7-7ed5-4e40-89df-4e05dcdaeb5d"
      },
      "outputs": [
        {
          "data": {
            "text/plain": [
              "['Elon Musk']"
            ]
          },
          "execution_count": 23,
          "metadata": {},
          "output_type": "execute_result"
        }
      ],
      "source": [
        "entity_chain.invoke({\"question\": \"Where was Elon Musk born?\"}).names"
      ]
    },
    {
      "cell_type": "code",
      "execution_count": null,
      "metadata": {
        "id": "7Zzop_8Be3Nk"
      },
      "outputs": [],
      "source": [
        "from langchain_community.vectorstores.neo4j_vector import remove_lucene_chars"
      ]
    },
    {
      "cell_type": "code",
      "execution_count": null,
      "metadata": {
        "id": "zxDGFEEGfD0L"
      },
      "outputs": [],
      "source": [
        "def generate_full_text_query(input: str) -> str:\n",
        "    full_text_query = \"\"\n",
        "    words = [el for el in remove_lucene_chars(input).split() if el]\n",
        "    for word in words[:-1]:\n",
        "        full_text_query += f\" {word}~2 AND\"\n",
        "    full_text_query += f\" {words[-1]}~2\"\n",
        "    return full_text_query.strip()"
      ]
    },
    {
      "cell_type": "code",
      "execution_count": null,
      "metadata": {
        "id": "Hdk9iCadfJAI"
      },
      "outputs": [],
      "source": [
        "# Fulltext index query\n",
        "def structured_retriever(question: str) -> str:\n",
        "    result = \"\"\n",
        "    entities = entity_chain.invoke({\"question\": question})\n",
        "    for entity in entities.names:\n",
        "        response = graph.query(\n",
        "            \"\"\"CALL db.index.fulltext.queryNodes('entity', $query, {limit:2})\n",
        "            YIELD node,score\n",
        "            CALL {\n",
        "              WITH node\n",
        "              MATCH (node)-[r:!MENTIONS]->(neighbor)\n",
        "              RETURN node.id + ' - ' + type(r) + ' -> ' + neighbor.id AS output\n",
        "              UNION ALL\n",
        "              WITH node\n",
        "              MATCH (node)<-[r:!MENTIONS]-(neighbor)\n",
        "              RETURN neighbor.id + ' - ' + type(r) + ' -> ' +  node.id AS output\n",
        "            }\n",
        "            RETURN output LIMIT 50\n",
        "            \"\"\",\n",
        "            {\"query\": generate_full_text_query(entity)},\n",
        "        )\n",
        "        result += \"\\n\".join([el['output'] for el in response])\n",
        "    return result"
      ]
    },
    {
      "cell_type": "code",
      "execution_count": null,
      "metadata": {
        "colab": {
          "base_uri": "https://localhost:8080/"
        },
        "id": "b-sEqPYSIRJj",
        "outputId": "904d7c98-bb65-4874-8d05-db222d6532be"
      },
      "outputs": [
        {
          "name": "stderr",
          "output_type": "stream",
          "text": [
            "WARNING:neo4j.notifications:Received notification from DBMS server: {severity: WARNING} {code: Neo.ClientNotification.Statement.FeatureDeprecationWarning} {category: DEPRECATION} {title: This feature is deprecated and will be removed in future versions.} {description: CALL subquery without a variable scope clause is now deprecated. Use CALL (node, node) { ... }} {position: line: 3, column: 13, offset: 104} for query: \"CALL db.index.fulltext.queryNodes('entity', $query, {limit:2})\\n            YIELD node,score\\n            CALL {\\n              WITH node\\n              MATCH (node)-[r:!MENTIONS]->(neighbor)\\n              RETURN node.id + ' - ' + type(r) + ' -> ' + neighbor.id AS output\\n              UNION ALL\\n              WITH node\\n              MATCH (node)<-[r:!MENTIONS]-(neighbor)\\n              RETURN neighbor.id + ' - ' + type(r) + ' -> ' +  node.id AS output\\n            }\\n            RETURN output LIMIT 50\\n            \"\n"
          ]
        },
        {
          "name": "stdout",
          "output_type": "stream",
          "text": [
            "Elon Musk - CEO -> Tesla\n",
            "Elon Musk - OWNER -> Spacex\n",
            "Elon Musk - OWNER -> X Corp\n",
            "Elon Musk - EXPRESSED_INTEREST_IN_LITHIUM -> Bolivia\n",
            "Elon Musk - PRAISED -> China\n",
            "Elon Musk - HAS_CLOSE_RELATIONSHIP -> China\n",
            "Elon Musk - PRODUCED_FIRST_BATCH_OF_VEHICLES -> Gigafactory Shanghai\n",
            "Elon Musk - CRITICIZED -> United States\n",
            "Elon Musk - PRAISED_ECONOMIC_PROSPERITY -> Ccp\n",
            "Elon Musk - WROTE_ARTICLE -> Cyberspace Administration Of China\n",
            "Elon Musk - EXPRESSED_SUPPORT_IN_2024_REPUBLICAN_PRESIDENTIAL_PRIMARIES -> Vivek Ramaswamy\n",
            "Elon Musk - STARTED_VOTING_FOR -> Republican Party\n",
            "Elon Musk - PARENT -> Maye Musk\n",
            "Elon Musk - PARENT -> Errol Musk\n",
            "Elon Musk - SIBLING -> Kimbal Musk\n",
            "Elon Musk - SIBLING -> Tosca Musk\n",
            "Elon Musk - COUSIN -> Lyndon Rive\n",
            "Elon Musk - SPOUSE -> Justine Musk\n",
            "Elon Musk - SPOUSE -> Talulah Riley\n"
          ]
        }
      ],
      "source": [
        "print(structured_retriever(\"Who is Elon Musk?\"))"
      ]
    },
    {
      "cell_type": "code",
      "execution_count": null,
      "metadata": {
        "id": "jwu9cqrefY0G"
      },
      "outputs": [],
      "source": [
        "def retriever(question: str):\n",
        "    print(f\"Search query: {question}\")\n",
        "    structured_data = structured_retriever(question)\n",
        "    unstructured_data = [el.page_content for el in vector_index.similarity_search(question)]\n",
        "    final_data = f\"\"\"Structured data:\n",
        "{structured_data}\n",
        "Unstructured data:\n",
        "{\"#Document \". join(unstructured_data)}\n",
        "    \"\"\"\n",
        "    return final_data"
      ]
    },
    {
      "cell_type": "code",
      "execution_count": null,
      "metadata": {
        "id": "fbXUV3-afeSo"
      },
      "outputs": [],
      "source": [
        "_template = \"\"\"Given the following conversation and a follow up question, rephrase the follow up question to be a standalone question,\n",
        "in its original language.\n",
        "Chat History:\n",
        "{chat_history}\n",
        "Follow Up Input: {question}\n",
        "Standalone question:\"\"\""
      ]
    },
    {
      "cell_type": "code",
      "execution_count": null,
      "metadata": {
        "id": "gAPfO1lVfioj"
      },
      "outputs": [],
      "source": [
        "CONDENSE_QUESTION_PROMPT = PromptTemplate.from_template(_template)"
      ]
    },
    {
      "cell_type": "code",
      "execution_count": null,
      "metadata": {
        "id": "7z-NvRPifnkB"
      },
      "outputs": [],
      "source": [
        "def _format_chat_history(chat_history: List[Tuple[str, str]]) -> List:\n",
        "    buffer = []\n",
        "    for human, ai in chat_history:\n",
        "        buffer.append(HumanMessage(content=human))\n",
        "        buffer.append(AIMessage(content=ai))\n",
        "    return buffer"
      ]
    },
    {
      "cell_type": "code",
      "execution_count": null,
      "metadata": {
        "id": "iVZIcEYhfsV1"
      },
      "outputs": [],
      "source": [
        "_search_query = RunnableBranch(\n",
        "    # If input includes chat_history, we condense it with the follow-up question\n",
        "    (\n",
        "        RunnableLambda(lambda x: bool(x.get(\"chat_history\"))).with_config(\n",
        "            run_name=\"HasChatHistoryCheck\"\n",
        "        ),  # Condense follow-up question and chat into a standalone_question\n",
        "        RunnablePassthrough.assign(\n",
        "            chat_history=lambda x: _format_chat_history(x[\"chat_history\"])\n",
        "        )\n",
        "        | CONDENSE_QUESTION_PROMPT\n",
        "        | ChatGroq(temperature=0)\n",
        "        | StrOutputParser(),\n",
        "    ),\n",
        "    # Else, we have no chat history, so just pass through the question\n",
        "    RunnableLambda(lambda x : x[\"question\"]),\n",
        ")"
      ]
    },
    {
      "cell_type": "code",
      "execution_count": null,
      "metadata": {
        "id": "y3bgQyMDf8mG"
      },
      "outputs": [],
      "source": [
        "template = \"\"\"Answer the question based only on the following context:\n",
        "{context}\n",
        "\n",
        "Question: {question}\n",
        "Use natural language and be concise.\n",
        "Answer:\"\"\""
      ]
    },
    {
      "cell_type": "code",
      "execution_count": null,
      "metadata": {
        "id": "1fr9Ym_BgFIP"
      },
      "outputs": [],
      "source": [
        "prompt = ChatPromptTemplate.from_template(template)"
      ]
    },
    {
      "cell_type": "code",
      "execution_count": null,
      "metadata": {
        "id": "AaZZO_4RgI7l"
      },
      "outputs": [],
      "source": [
        "chain = (\n",
        "    RunnableParallel(\n",
        "        {\n",
        "            \"context\": _search_query | retriever,\n",
        "            \"question\": RunnablePassthrough(),\n",
        "        }\n",
        "    )\n",
        "    | prompt\n",
        "    | llm\n",
        "    | StrOutputParser()\n",
        ")"
      ]
    },
    {
      "cell_type": "code",
      "execution_count": null,
      "metadata": {
        "colab": {
          "base_uri": "https://localhost:8080/",
          "height": 125
        },
        "id": "e9KkerUygLdb",
        "outputId": "95295be3-eabd-4ca3-e9b6-1750853538e5"
      },
      "outputs": [
        {
          "name": "stdout",
          "output_type": "stream",
          "text": [
            "Search query: What is the Elon Musk company that makes smart electric cars?\n"
          ]
        },
        {
          "name": "stderr",
          "output_type": "stream",
          "text": [
            "WARNING:neo4j.notifications:Received notification from DBMS server: {severity: WARNING} {code: Neo.ClientNotification.Statement.FeatureDeprecationWarning} {category: DEPRECATION} {title: This feature is deprecated and will be removed in future versions.} {description: CALL subquery without a variable scope clause is now deprecated. Use CALL (node, node) { ... }} {position: line: 3, column: 13, offset: 104} for query: \"CALL db.index.fulltext.queryNodes('entity', $query, {limit:2})\\n            YIELD node,score\\n            CALL {\\n              WITH node\\n              MATCH (node)-[r:!MENTIONS]->(neighbor)\\n              RETURN node.id + ' - ' + type(r) + ' -> ' + neighbor.id AS output\\n              UNION ALL\\n              WITH node\\n              MATCH (node)<-[r:!MENTIONS]-(neighbor)\\n              RETURN neighbor.id + ' - ' + type(r) + ' -> ' +  node.id AS output\\n            }\\n            RETURN output LIMIT 50\\n            \"\n",
            "WARNING:neo4j.notifications:Received notification from DBMS server: {severity: WARNING} {code: Neo.ClientNotification.Statement.FeatureDeprecationWarning} {category: DEPRECATION} {title: This feature is deprecated and will be removed in future versions.} {description: CALL subquery without a variable scope clause is now deprecated. Use CALL (node, node) { ... }} {position: line: 3, column: 13, offset: 104} for query: \"CALL db.index.fulltext.queryNodes('entity', $query, {limit:2})\\n            YIELD node,score\\n            CALL {\\n              WITH node\\n              MATCH (node)-[r:!MENTIONS]->(neighbor)\\n              RETURN node.id + ' - ' + type(r) + ' -> ' + neighbor.id AS output\\n              UNION ALL\\n              WITH node\\n              MATCH (node)<-[r:!MENTIONS]-(neighbor)\\n              RETURN neighbor.id + ' - ' + type(r) + ' -> ' +  node.id AS output\\n            }\\n            RETURN output LIMIT 50\\n            \"\n",
            "WARNING:neo4j.notifications:Received notification from DBMS server: {severity: WARNING} {code: Neo.ClientNotification.Statement.FeatureDeprecationWarning} {category: DEPRECATION} {title: This feature is deprecated and will be removed in future versions.} {description: CALL subquery without a variable scope clause is now deprecated. Use CALL () { ... }} {position: line: 1, column: 1, offset: 0} for query: \"CALL { CALL db.index.vector.queryNodes($index, $k, $embedding) YIELD node, score WITH collect({node:node, score:score}) AS nodes, max(score) AS max UNWIND nodes AS n RETURN n.node AS node, (n.score / max) AS score UNION CALL db.index.fulltext.queryNodes($keyword_index, $query, {limit: $k}) YIELD node, score WITH collect({node:node, score:score}) AS nodes, max(score) AS max UNWIND nodes AS n RETURN n.node AS node, (n.score / max) AS score } WITH node, max(score) AS score ORDER BY score DESC LIMIT $k RETURN reduce(str='', k IN ['text'] | str + '\\\\n' + k + ': ' + coalesce(node[k], '')) AS text, node {.*, `embedding`: Null, id: Null, `text`: Null} AS metadata, score\"\n"
          ]
        },
        {
          "data": {
            "application/vnd.google.colaboratory.intrinsic+json": {
              "type": "string"
            },
            "text/plain": [
              "'Tesla, Inc. is the Elon Musk company that makes smart electric cars.'"
            ]
          },
          "execution_count": 36,
          "metadata": {},
          "output_type": "execute_result"
        }
      ],
      "source": [
        "chain.invoke({\"question\": \"What is the Elon Musk company that makes smart electric cars?\"})"
      ]
    },
    {
      "cell_type": "code",
      "execution_count": null,
      "metadata": {
        "colab": {
          "base_uri": "https://localhost:8080/",
          "height": 108
        },
        "id": "biv0iknTg6Xi",
        "outputId": "15c70cf6-8a92-4b76-9d98-c61268345588"
      },
      "outputs": [
        {
          "name": "stdout",
          "output_type": "stream",
          "text": [
            "Search query: When was Elon Musk born?\n"
          ]
        },
        {
          "name": "stderr",
          "output_type": "stream",
          "text": [
            "WARNING:neo4j.notifications:Received notification from DBMS server: {severity: WARNING} {code: Neo.ClientNotification.Statement.FeatureDeprecationWarning} {category: DEPRECATION} {title: This feature is deprecated and will be removed in future versions.} {description: CALL subquery without a variable scope clause is now deprecated. Use CALL (node, node) { ... }} {position: line: 3, column: 13, offset: 104} for query: \"CALL db.index.fulltext.queryNodes('entity', $query, {limit:2})\\n            YIELD node,score\\n            CALL {\\n              WITH node\\n              MATCH (node)-[r:!MENTIONS]->(neighbor)\\n              RETURN node.id + ' - ' + type(r) + ' -> ' + neighbor.id AS output\\n              UNION ALL\\n              WITH node\\n              MATCH (node)<-[r:!MENTIONS]-(neighbor)\\n              RETURN neighbor.id + ' - ' + type(r) + ' -> ' +  node.id AS output\\n            }\\n            RETURN output LIMIT 50\\n            \"\n",
            "WARNING:neo4j.notifications:Received notification from DBMS server: {severity: WARNING} {code: Neo.ClientNotification.Statement.FeatureDeprecationWarning} {category: DEPRECATION} {title: This feature is deprecated and will be removed in future versions.} {description: CALL subquery without a variable scope clause is now deprecated. Use CALL () { ... }} {position: line: 1, column: 1, offset: 0} for query: \"CALL { CALL db.index.vector.queryNodes($index, $k, $embedding) YIELD node, score WITH collect({node:node, score:score}) AS nodes, max(score) AS max UNWIND nodes AS n RETURN n.node AS node, (n.score / max) AS score UNION CALL db.index.fulltext.queryNodes($keyword_index, $query, {limit: $k}) YIELD node, score WITH collect({node:node, score:score}) AS nodes, max(score) AS max UNWIND nodes AS n RETURN n.node AS node, (n.score / max) AS score } WITH node, max(score) AS score ORDER BY score DESC LIMIT $k RETURN reduce(str='', k IN ['text'] | str + '\\\\n' + k + ': ' + coalesce(node[k], '')) AS text, node {.*, `embedding`: Null, id: Null, `text`: Null} AS metadata, score\"\n"
          ]
        },
        {
          "data": {
            "application/vnd.google.colaboratory.intrinsic+json": {
              "type": "string"
            },
            "text/plain": [
              "'Elon Musk was born on June 28, 1971.'"
            ]
          },
          "execution_count": 37,
          "metadata": {},
          "output_type": "execute_result"
        }
      ],
      "source": [
        "chain.invoke(\n",
        "    {\n",
        "        \"question\": \"When was he born?\",\n",
        "        \"chat_history\": [(\"What is the Elon Musk company that makes smart electric cars?\", \"Tesla, Inc. is the Elon Musk company that makes smart electric cars.\")],\n",
        "    }\n",
        ")\n"
      ]
    },
    {
      "cell_type": "markdown",
      "metadata": {
        "id": "xqFBT8qkzal4"
      },
      "source": [
        "## Deployment"
      ]
    },
    {
      "cell_type": "markdown",
      "metadata": {
        "id": "5hh03Wvvdkni"
      },
      "source": [
        "Before running the cell below run first cell of notebook to install all necessary libraries"
      ]
    },
    {
      "cell_type": "code",
      "execution_count": 3,
      "metadata": {
        "id": "Y21Wi9EdJ6xs"
      },
      "outputs": [],
      "source": [
        "import os\n",
        "\n",
        "from google.colab import userdata\n",
        "GROQ_API_KEY=userdata.get('GROQ_API_KEY')# add your GROQ_API_KEY\n",
        "GOOGLE_API_KEY=userdata.get('GOOGLE_API_KEY')# add your GOOGLE_API_KEY\n",
        "\n",
        "NEO4J_URI=\"neo4j+s://04a30263.databases.neo4j.io\"\n",
        "NEO4J_USERNAME=\"neo4j\"\n",
        "NEO4J_PASSWORD=\"yfNuG-fkyaNHljhgx8Tc32gEExnaxUAi7lGz20YSzSQ\"\n",
        "\n",
        "\n",
        "os.environ[\"GROQ_API_KEY\"] = GROQ_API_KEY\n",
        "os.environ[\"GOOGLE_API_KEY\"] = GOOGLE_API_KEY\n",
        "os.environ[\"NEO4J_URI\"] = NEO4J_URI\n",
        "os.environ[\"NEO4J_USERNAME\"] = NEO4J_USERNAME\n",
        "os.environ[\"NEO4J_PASSWORD\"] = NEO4J_PASSWORD"
      ]
    },
    {
      "cell_type": "code",
      "execution_count": 4,
      "metadata": {
        "colab": {
          "base_uri": "https://localhost:8080/"
        },
        "id": "Gsi2WmctECrB",
        "outputId": "59500686-bc7b-439e-949e-60551e03cbd4"
      },
      "outputs": [
        {
          "name": "stdout",
          "output_type": "stream",
          "text": [
            "Writing app.py\n"
          ]
        }
      ],
      "source": [
        "%%writefile app.py\n",
        "import streamlit as st\n",
        "from langchain_core.prompts import ChatPromptTemplate\n",
        "from langchain_core.prompts.prompt import PromptTemplate\n",
        "from langchain.schema import StrOutputParser\n",
        "from langchain.schema.runnable.config import RunnableConfig\n",
        "from langchain_core.runnables import RunnableParallel, RunnablePassthrough, RunnableBranch, RunnableLambda\n",
        "from neo4j import GraphDatabase\n",
        "from langchain_community.vectorstores.neo4j_vector import remove_lucene_chars\n",
        "from typing import Tuple, List\n",
        "from langchain_core.messages import AIMessage, HumanMessage\n",
        "from langchain_groq import ChatGroq\n",
        "from langchain_community.graphs import Neo4jGraph\n",
        "from langchain_community.vectorstores import Neo4jVector\n",
        "from langchain_google_genai import GoogleGenerativeAIEmbeddings\n",
        "from pydantic import BaseModel, Field\n",
        "import os\n",
        "\n",
        "from google.colab import userdata\n",
        "\n",
        "\n",
        "\n",
        "# Initialize session state\n",
        "if 'messages' not in st.session_state:\n",
        "    st.session_state.messages = []\n",
        "\n",
        "def initialize_components():\n",
        "    graph = Neo4jGraph()\n",
        "\n",
        "    llm = ChatGroq(\n",
        "        model=\"mixtral-8x7b-32768\",\n",
        "        temperature=0\n",
        "    )\n",
        "\n",
        "    vector_index = Neo4jVector.from_existing_graph(\n",
        "        GoogleGenerativeAIEmbeddings(model=\"models/embedding-001\"),\n",
        "        search_type=\"hybrid\",\n",
        "        node_label=\"Document\",\n",
        "        text_node_properties=[\"text\"],\n",
        "        embedding_node_property=\"embedding\"\n",
        "    )\n",
        "\n",
        "    graph.query(\"CREATE FULLTEXT INDEX entity IF NOT EXISTS FOR (e:__Entity__) ON EACH [e.id]\")\n",
        "\n",
        "    return graph, llm, vector_index\n",
        "\n",
        "class Entities(BaseModel):\n",
        "    names: List[str] = Field(\n",
        "        ...,\n",
        "        description=\"All the person, organization, or business entities that appear in the text\",\n",
        "    )\n",
        "\n",
        "def setup_chains(llm, graph, vector_index):\n",
        "    prompt = ChatPromptTemplate.from_messages([\n",
        "        (\"system\", \"You are extracting organization and person entities from the text.\"),\n",
        "        (\"human\", \"Use the given format to extract information from the following input: {question}\"),\n",
        "    ])\n",
        "\n",
        "    entity_chain = prompt | llm.with_structured_output(Entities)\n",
        "\n",
        "    def generate_full_text_query(input: str) -> str:\n",
        "        full_text_query = \"\"\n",
        "        words = [el for el in remove_lucene_chars(input).split() if el]\n",
        "        for word in words[:-1]:\n",
        "            full_text_query += f\" {word}~2 AND\"\n",
        "        full_text_query += f\" {words[-1]}~2\"\n",
        "        return full_text_query.strip()\n",
        "\n",
        "    def structured_retriever(question: str) -> str:\n",
        "        result = \"\"\n",
        "        entities = entity_chain.invoke({\"question\": question})\n",
        "        for entity in entities.names:\n",
        "            response = graph.query(\n",
        "                \"\"\"CALL db.index.fulltext.queryNodes('entity', $query, {limit:2})\n",
        "                YIELD node,score\n",
        "                CALL {\n",
        "                  WITH node\n",
        "                  MATCH (node)-[r:!MENTIONS]->(neighbor)\n",
        "                  RETURN node.id + ' - ' + type(r) + ' -> ' + neighbor.id AS output\n",
        "                  UNION ALL\n",
        "                  WITH node\n",
        "                  MATCH (node)<-[r:!MENTIONS]-(neighbor)\n",
        "                  RETURN neighbor.id + ' - ' + type(r) + ' -> ' +  node.id AS output\n",
        "                }\n",
        "                RETURN output LIMIT 50\n",
        "                \"\"\",\n",
        "                {\"query\": generate_full_text_query(entity)},\n",
        "            )\n",
        "            result += \"\\n\".join([el['output'] for el in response])\n",
        "        return result\n",
        "\n",
        "    def retriever(question: str):\n",
        "        print(f\"Search query: {question}\")\n",
        "        structured_data = structured_retriever(question)\n",
        "        unstructured_data = [el.page_content for el in vector_index.similarity_search(question)]\n",
        "        final_data = f\"\"\"Structured data:\n",
        "        {structured_data}\n",
        "        Unstructured data:\n",
        "        {\"#Document \". join(unstructured_data)}\n",
        "            \"\"\"\n",
        "        return final_data\n",
        "\n",
        "    _template = \"\"\"Given the following conversation and a follow up question, rephrase the follow up question to be a standalone question,\n",
        "    in its original language.\n",
        "    Chat History:\n",
        "    {chat_history}\n",
        "    Follow Up Input: {question}\n",
        "    Standalone question:\"\"\"\n",
        "\n",
        "    CONDENSE_QUESTION_PROMPT = PromptTemplate.from_template(_template)\n",
        "\n",
        "    def _format_chat_history(chat_history: List[Tuple[str, str]]) -> List:\n",
        "        buffer = []\n",
        "        for human, ai in chat_history:\n",
        "            buffer.append(HumanMessage(content=human))\n",
        "            buffer.append(AIMessage(content=ai))\n",
        "        return buffer\n",
        "\n",
        "    _search_query = RunnableBranch(\n",
        "        (\n",
        "            RunnableLambda(lambda x: bool(x.get(\"chat_history\"))).with_config(\n",
        "                run_name=\"HasChatHistoryCheck\"\n",
        "            ),\n",
        "            RunnablePassthrough.assign(\n",
        "                chat_history=lambda x: _format_chat_history(x[\"chat_history\"])\n",
        "            )\n",
        "            | CONDENSE_QUESTION_PROMPT\n",
        "            | ChatGroq(temperature=0)\n",
        "            | StrOutputParser(),\n",
        "        ),\n",
        "        RunnableLambda(lambda x : x[\"question\"]),\n",
        "    )\n",
        "\n",
        "    template = \"\"\"Answer the question based only on the following context:\n",
        "    {context}\n",
        "\n",
        "    Question: {question}\n",
        "    Use natural language and be concise.\n",
        "    Answer:\"\"\"\n",
        "\n",
        "    prompt = ChatPromptTemplate.from_template(template)\n",
        "\n",
        "    chain = (\n",
        "        RunnableParallel(\n",
        "            {\n",
        "                \"context\": _search_query | retriever,\n",
        "                \"question\": RunnablePassthrough(),\n",
        "            }\n",
        "        )| prompt | llm | StrOutputParser()\n",
        "    )\n",
        "\n",
        "    return chain\n",
        "\n",
        "def main():\n",
        "    st.title(\"AI Chat Interface\")\n",
        "\n",
        "    # Initialize components if not already in session state\n",
        "    if 'chain' not in st.session_state:\n",
        "        graph, llm, vector_index = initialize_components()\n",
        "        st.session_state.chain = setup_chains(llm, graph, vector_index)\n",
        "\n",
        "    # Display chat messages\n",
        "    for message in st.session_state.messages:\n",
        "        with st.chat_message(message[\"role\"]):\n",
        "            st.write(message[\"content\"])\n",
        "\n",
        "    # Chat input\n",
        "    if prompt := st.chat_input(\"What is your question?\"):\n",
        "        # Add user message to chat history\n",
        "        st.session_state.messages.append({\"role\": \"user\", \"content\": prompt})\n",
        "        with st.chat_message(\"user\"):\n",
        "            st.write(prompt)\n",
        "\n",
        "        # Generate response\n",
        "        with st.chat_message(\"assistant\"):\n",
        "            with st.spinner(\"Thinking...\"):\n",
        "                response = st.session_state.chain.invoke(\n",
        "                    {\"question\": prompt}\n",
        "                )\n",
        "                st.write(response)\n",
        "\n",
        "        # Add assistant response to chat history\n",
        "        st.session_state.messages.append({\"role\": \"assistant\", \"content\": response})\n",
        "\n",
        "if __name__ == \"__main__\":\n",
        "    main()"
      ]
    },
    {
      "cell_type": "code",
      "execution_count": 15,
      "metadata": {
        "colab": {
          "base_uri": "https://localhost:8080/"
        },
        "id": "OO-698NU6d1F",
        "outputId": "df04ea2a-4979-4929-9aa4-7c6188b924de"
      },
      "outputs": [
        {
          "name": "stdout",
          "output_type": "stream",
          "text": [
            "Authtoken saved to configuration file: /root/.config/ngrok/ngrok.yml\n"
          ]
        }
      ],
      "source": [
        "!ngrok config add-authtoken \"add your ngrok token\"# Add ngrok token"
      ]
    },
    {
      "cell_type": "code",
      "execution_count": 16,
      "metadata": {
        "colab": {
          "base_uri": "https://localhost:8080/"
        },
        "id": "ZkVw4EtN1Roj",
        "outputId": "7bcab9a8-7d56-44e2-9192-78c7169ac176"
      },
      "outputs": [
        {
          "name": "stdout",
          "output_type": "stream",
          "text": [
            "Streamlit app is live at: NgrokTunnel: \"https://b30f-34-82-39-79.ngrok-free.app\" -> \"http://localhost:8501\"\n"
          ]
        }
      ],
      "source": [
        "# Run the chain app and expose it via ngrok\n",
        "import subprocess\n",
        "from pyngrok import ngrok\n",
        "\n",
        "# Start Streamlit in the background\n",
        "process = subprocess.Popen(['streamlit', 'run', 'app.py'])\n",
        "\n",
        "# Create an ngrok tunnel\n",
        "public_url = ngrok.connect(8501)\n",
        "print(f\"Streamlit app is live at: {public_url}\")\n",
        "\n",
        "# Optionally, terminate the process when done\n",
        "# process.terminate()"
      ]
    },
    {
      "cell_type": "code",
      "execution_count": 18,
      "metadata": {
        "id": "fPDzPR-K24cn"
      },
      "outputs": [],
      "source": [
        "ngrok.kill()"
      ]
    },
    {
      "cell_type": "code",
      "execution_count": 19,
      "metadata": {
        "colab": {
          "base_uri": "https://localhost:8080/"
        },
        "id": "wYLPzqN41lAb",
        "outputId": "3a6910b4-f8ce-4915-d3e4-53d4df6c2105"
      },
      "outputs": [
        {
          "name": "stdout",
          "output_type": "stream",
          "text": [
            "[]\n"
          ]
        }
      ],
      "source": [
        "from pyngrok import ngrok\n",
        "tunnels = ngrok.get_tunnels()\n",
        "print(tunnels)"
      ]
    },
    {
      "cell_type": "code",
      "execution_count": null,
      "metadata": {
        "id": "eLaEZpPFdeoG"
      },
      "outputs": [],
      "source": [
        "# !streamlit run app.py -w"
      ]
    }
  ],
  "metadata": {
    "colab": {
      "provenance": [],
      "toc_visible": true
    },
    "kernelspec": {
      "display_name": "Python 3",
      "name": "python3"
    },
    "language_info": {
      "name": "python"
    }
  },
  "nbformat": 4,
  "nbformat_minor": 0
}
